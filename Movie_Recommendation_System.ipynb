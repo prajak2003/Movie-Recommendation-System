{
  "nbformat": 4,
  "nbformat_minor": 0,
  "metadata": {
    "colab": {
      "provenance": []
    },
    "kernelspec": {
      "name": "python3",
      "display_name": "Python 3"
    },
    "language_info": {
      "name": "python"
    }
  },
  "cells": [
    {
      "cell_type": "markdown",
      "source": [
        "Importing the dependencies"
      ],
      "metadata": {
        "id": "pLc-meDDb9dZ"
      }
    },
    {
      "cell_type": "code",
      "execution_count": null,
      "metadata": {
        "id": "hcJPl5MMbQz9"
      },
      "outputs": [],
      "source": [
        "import numpy as np\n",
        "import pandas as pd\n",
        "import difflib\n",
        "from sklearn.feature_extraction.text import TfidfVectorizer\n",
        "from sklearn.metrics.pairwise import cosine_similarity"
      ]
    },
    {
      "cell_type": "markdown",
      "source": [
        "Data Collection and Pre-Processing"
      ],
      "metadata": {
        "id": "w_VRSlFtgIhQ"
      }
    },
    {
      "cell_type": "code",
      "source": [
        "#loading the data from the csv file to pandas dataframe\n",
        "try:\n",
        "    movies_data = pd.read_csv('/content/movies.csv', engine='python', on_bad_lines='skip')\n",
        "except Exception as e:\n",
        "    print(f\"An error occurred: {e}\")\n",
        "    # If skipping bad lines doesn't work, try reading with a different delimiter or quoting\n",
        "    try:\n",
        "        movies_data = pd.read_csv('/content/movies.csv', engine='python', sep=',', quotechar='\"', on_bad_lines='skip')\n",
        "    except Exception as e2:\n",
        "        print(f\"A second attempt with different parameters failed: {e2}\")\n",
        "        # As a last resort, try reading line by line\n",
        "        try:\n",
        "            data = []\n",
        "            with open('/content/movies.csv', 'r', encoding='utf-8') as f:\n",
        "                for i, line in enumerate(f):\n",
        "                    if i < 500: # Limit the number of lines to read to avoid excessive memory usage\n",
        "                        try:\n",
        "                            data.append(line.strip().split(',')) # Basic splitting, may need adjustment based on actual delimiter\n",
        "                        except Exception as line_e:\n",
        "                            print(f\"Error reading line {i}: {line_e}\")\n",
        "                            continue\n",
        "            # Attempt to create a DataFrame from the manually read data\n",
        "            # This will likely require further processing to handle headers and column types correctly\n",
        "            movies_data = pd.DataFrame(data)\n",
        "            print(\"Successfully read some data manually, but further processing is needed.\")\n",
        "        except Exception as e3:\n",
        "            print(f\"Manual reading also failed: {e3}\")"
      ],
      "metadata": {
        "id": "cH8WxLCQgNJ3"
      },
      "execution_count": null,
      "outputs": []
    },
    {
      "cell_type": "code",
      "source": [
        "#printing the first 5 rows of the dataframe\n",
        "movies_data.head()"
      ],
      "metadata": {
        "colab": {
          "base_uri": "https://localhost:8080/",
          "height": 793
        },
        "id": "peHeeGKDmyrT",
        "outputId": "ae6c5c3a-e8c4-4688-e10a-b9ce7595dd32"
      },
      "execution_count": null,
      "outputs": [
        {
          "output_type": "execute_result",
          "data": {
            "text/plain": [
              "   index     budget                                    genres  \\\n",
              "0      0  237000000  Action Adventure Fantasy Science Fiction   \n",
              "1      1  300000000                  Adventure Fantasy Action   \n",
              "2      2  245000000                    Action Adventure Crime   \n",
              "3      3  250000000               Action Crime Drama Thriller   \n",
              "4      4  260000000          Action Adventure Science Fiction   \n",
              "\n",
              "                                       homepage      id  \\\n",
              "0                   http://www.avatarmovie.com/   19995   \n",
              "1  http://disney.go.com/disneypictures/pirates/     285   \n",
              "2   http://www.sonypictures.com/movies/spectre/  206647   \n",
              "3            http://www.thedarkknightrises.com/   49026   \n",
              "4          http://movies.disney.com/john-carter   49529   \n",
              "\n",
              "                                            keywords original_language  \\\n",
              "0  culture clash future space war space colony so...                en   \n",
              "1  ocean drug abuse exotic island east india trad...                en   \n",
              "2         spy based on novel secret agent sequel mi6                en   \n",
              "3  dc comics crime fighter terrorist secret ident...                en   \n",
              "4  based on novel mars medallion space travel pri...                en   \n",
              "\n",
              "                             original_title  \\\n",
              "0                                    Avatar   \n",
              "1  Pirates of the Caribbean: At World's End   \n",
              "2                                   Spectre   \n",
              "3                     The Dark Knight Rises   \n",
              "4                               John Carter   \n",
              "\n",
              "                                            overview  popularity  ... runtime  \\\n",
              "0  In the 22nd century, a paraplegic Marine is di...  150.437577  ...   162.0   \n",
              "1  Captain Barbossa, long believed to be dead, ha...  139.082615  ...   169.0   \n",
              "2  A cryptic message from Bond’s past sends him o...  107.376788  ...   148.0   \n",
              "3  Following the death of District Attorney Harve...  112.312950  ...   165.0   \n",
              "4  John Carter is a war-weary, former military ca...   43.926995  ...   132.0   \n",
              "\n",
              "                                    spoken_languages    status  \\\n",
              "0  [{\"iso_639_1\": \"en\", \"name\": \"English\"}, {\"iso...  Released   \n",
              "1           [{\"iso_639_1\": \"en\", \"name\": \"English\"}]  Released   \n",
              "2  [{\"iso_639_1\": \"fr\", \"name\": \"Fran\\u00e7ais\"},...  Released   \n",
              "3           [{\"iso_639_1\": \"en\", \"name\": \"English\"}]  Released   \n",
              "4           [{\"iso_639_1\": \"en\", \"name\": \"English\"}]  Released   \n",
              "\n",
              "                                          tagline  \\\n",
              "0                     Enter the World of Pandora.   \n",
              "1  At the end of the world, the adventure begins.   \n",
              "2                           A Plan No One Escapes   \n",
              "3                                 The Legend Ends   \n",
              "4            Lost in our world, found in another.   \n",
              "\n",
              "                                      title vote_average vote_count  \\\n",
              "0                                    Avatar          7.2      11800   \n",
              "1  Pirates of the Caribbean: At World's End          6.9       4500   \n",
              "2                                   Spectre          6.3       4466   \n",
              "3                     The Dark Knight Rises          7.6       9106   \n",
              "4                               John Carter          6.1       2124   \n",
              "\n",
              "                                                cast  \\\n",
              "0  Sam Worthington Zoe Saldana Sigourney Weaver S...   \n",
              "1  Johnny Depp Orlando Bloom Keira Knightley Stel...   \n",
              "2  Daniel Craig Christoph Waltz L\\u00e9a Seydoux ...   \n",
              "3  Christian Bale Michael Caine Gary Oldman Anne ...   \n",
              "4  Taylor Kitsch Lynn Collins Samantha Morton Wil...   \n",
              "\n",
              "                                                crew           director  \n",
              "0  [{'name': 'Stephen E. Rivkin', 'gender': 0, 'd...      James Cameron  \n",
              "1  [{'name': 'Dariusz Wolski', 'gender': 2, 'depa...     Gore Verbinski  \n",
              "2  [{'name': 'Thomas Newman', 'gender': 2, 'depar...         Sam Mendes  \n",
              "3  [{'name': 'Hans Zimmer', 'gender': 2, 'departm...  Christopher Nolan  \n",
              "4  [{'name': 'Andrew Stanton', 'gender': 2, 'depa...     Andrew Stanton  \n",
              "\n",
              "[5 rows x 24 columns]"
            ],
            "text/html": [
              "\n",
              "  <div id=\"df-e0d55e64-4400-4c7a-a03c-844b0c57f375\" class=\"colab-df-container\">\n",
              "    <div>\n",
              "<style scoped>\n",
              "    .dataframe tbody tr th:only-of-type {\n",
              "        vertical-align: middle;\n",
              "    }\n",
              "\n",
              "    .dataframe tbody tr th {\n",
              "        vertical-align: top;\n",
              "    }\n",
              "\n",
              "    .dataframe thead th {\n",
              "        text-align: right;\n",
              "    }\n",
              "</style>\n",
              "<table border=\"1\" class=\"dataframe\">\n",
              "  <thead>\n",
              "    <tr style=\"text-align: right;\">\n",
              "      <th></th>\n",
              "      <th>index</th>\n",
              "      <th>budget</th>\n",
              "      <th>genres</th>\n",
              "      <th>homepage</th>\n",
              "      <th>id</th>\n",
              "      <th>keywords</th>\n",
              "      <th>original_language</th>\n",
              "      <th>original_title</th>\n",
              "      <th>overview</th>\n",
              "      <th>popularity</th>\n",
              "      <th>...</th>\n",
              "      <th>runtime</th>\n",
              "      <th>spoken_languages</th>\n",
              "      <th>status</th>\n",
              "      <th>tagline</th>\n",
              "      <th>title</th>\n",
              "      <th>vote_average</th>\n",
              "      <th>vote_count</th>\n",
              "      <th>cast</th>\n",
              "      <th>crew</th>\n",
              "      <th>director</th>\n",
              "    </tr>\n",
              "  </thead>\n",
              "  <tbody>\n",
              "    <tr>\n",
              "      <th>0</th>\n",
              "      <td>0</td>\n",
              "      <td>237000000</td>\n",
              "      <td>Action Adventure Fantasy Science Fiction</td>\n",
              "      <td>http://www.avatarmovie.com/</td>\n",
              "      <td>19995</td>\n",
              "      <td>culture clash future space war space colony so...</td>\n",
              "      <td>en</td>\n",
              "      <td>Avatar</td>\n",
              "      <td>In the 22nd century, a paraplegic Marine is di...</td>\n",
              "      <td>150.437577</td>\n",
              "      <td>...</td>\n",
              "      <td>162.0</td>\n",
              "      <td>[{\"iso_639_1\": \"en\", \"name\": \"English\"}, {\"iso...</td>\n",
              "      <td>Released</td>\n",
              "      <td>Enter the World of Pandora.</td>\n",
              "      <td>Avatar</td>\n",
              "      <td>7.2</td>\n",
              "      <td>11800</td>\n",
              "      <td>Sam Worthington Zoe Saldana Sigourney Weaver S...</td>\n",
              "      <td>[{'name': 'Stephen E. Rivkin', 'gender': 0, 'd...</td>\n",
              "      <td>James Cameron</td>\n",
              "    </tr>\n",
              "    <tr>\n",
              "      <th>1</th>\n",
              "      <td>1</td>\n",
              "      <td>300000000</td>\n",
              "      <td>Adventure Fantasy Action</td>\n",
              "      <td>http://disney.go.com/disneypictures/pirates/</td>\n",
              "      <td>285</td>\n",
              "      <td>ocean drug abuse exotic island east india trad...</td>\n",
              "      <td>en</td>\n",
              "      <td>Pirates of the Caribbean: At World's End</td>\n",
              "      <td>Captain Barbossa, long believed to be dead, ha...</td>\n",
              "      <td>139.082615</td>\n",
              "      <td>...</td>\n",
              "      <td>169.0</td>\n",
              "      <td>[{\"iso_639_1\": \"en\", \"name\": \"English\"}]</td>\n",
              "      <td>Released</td>\n",
              "      <td>At the end of the world, the adventure begins.</td>\n",
              "      <td>Pirates of the Caribbean: At World's End</td>\n",
              "      <td>6.9</td>\n",
              "      <td>4500</td>\n",
              "      <td>Johnny Depp Orlando Bloom Keira Knightley Stel...</td>\n",
              "      <td>[{'name': 'Dariusz Wolski', 'gender': 2, 'depa...</td>\n",
              "      <td>Gore Verbinski</td>\n",
              "    </tr>\n",
              "    <tr>\n",
              "      <th>2</th>\n",
              "      <td>2</td>\n",
              "      <td>245000000</td>\n",
              "      <td>Action Adventure Crime</td>\n",
              "      <td>http://www.sonypictures.com/movies/spectre/</td>\n",
              "      <td>206647</td>\n",
              "      <td>spy based on novel secret agent sequel mi6</td>\n",
              "      <td>en</td>\n",
              "      <td>Spectre</td>\n",
              "      <td>A cryptic message from Bond’s past sends him o...</td>\n",
              "      <td>107.376788</td>\n",
              "      <td>...</td>\n",
              "      <td>148.0</td>\n",
              "      <td>[{\"iso_639_1\": \"fr\", \"name\": \"Fran\\u00e7ais\"},...</td>\n",
              "      <td>Released</td>\n",
              "      <td>A Plan No One Escapes</td>\n",
              "      <td>Spectre</td>\n",
              "      <td>6.3</td>\n",
              "      <td>4466</td>\n",
              "      <td>Daniel Craig Christoph Waltz L\\u00e9a Seydoux ...</td>\n",
              "      <td>[{'name': 'Thomas Newman', 'gender': 2, 'depar...</td>\n",
              "      <td>Sam Mendes</td>\n",
              "    </tr>\n",
              "    <tr>\n",
              "      <th>3</th>\n",
              "      <td>3</td>\n",
              "      <td>250000000</td>\n",
              "      <td>Action Crime Drama Thriller</td>\n",
              "      <td>http://www.thedarkknightrises.com/</td>\n",
              "      <td>49026</td>\n",
              "      <td>dc comics crime fighter terrorist secret ident...</td>\n",
              "      <td>en</td>\n",
              "      <td>The Dark Knight Rises</td>\n",
              "      <td>Following the death of District Attorney Harve...</td>\n",
              "      <td>112.312950</td>\n",
              "      <td>...</td>\n",
              "      <td>165.0</td>\n",
              "      <td>[{\"iso_639_1\": \"en\", \"name\": \"English\"}]</td>\n",
              "      <td>Released</td>\n",
              "      <td>The Legend Ends</td>\n",
              "      <td>The Dark Knight Rises</td>\n",
              "      <td>7.6</td>\n",
              "      <td>9106</td>\n",
              "      <td>Christian Bale Michael Caine Gary Oldman Anne ...</td>\n",
              "      <td>[{'name': 'Hans Zimmer', 'gender': 2, 'departm...</td>\n",
              "      <td>Christopher Nolan</td>\n",
              "    </tr>\n",
              "    <tr>\n",
              "      <th>4</th>\n",
              "      <td>4</td>\n",
              "      <td>260000000</td>\n",
              "      <td>Action Adventure Science Fiction</td>\n",
              "      <td>http://movies.disney.com/john-carter</td>\n",
              "      <td>49529</td>\n",
              "      <td>based on novel mars medallion space travel pri...</td>\n",
              "      <td>en</td>\n",
              "      <td>John Carter</td>\n",
              "      <td>John Carter is a war-weary, former military ca...</td>\n",
              "      <td>43.926995</td>\n",
              "      <td>...</td>\n",
              "      <td>132.0</td>\n",
              "      <td>[{\"iso_639_1\": \"en\", \"name\": \"English\"}]</td>\n",
              "      <td>Released</td>\n",
              "      <td>Lost in our world, found in another.</td>\n",
              "      <td>John Carter</td>\n",
              "      <td>6.1</td>\n",
              "      <td>2124</td>\n",
              "      <td>Taylor Kitsch Lynn Collins Samantha Morton Wil...</td>\n",
              "      <td>[{'name': 'Andrew Stanton', 'gender': 2, 'depa...</td>\n",
              "      <td>Andrew Stanton</td>\n",
              "    </tr>\n",
              "  </tbody>\n",
              "</table>\n",
              "<p>5 rows × 24 columns</p>\n",
              "</div>\n",
              "    <div class=\"colab-df-buttons\">\n",
              "\n",
              "  <div class=\"colab-df-container\">\n",
              "    <button class=\"colab-df-convert\" onclick=\"convertToInteractive('df-e0d55e64-4400-4c7a-a03c-844b0c57f375')\"\n",
              "            title=\"Convert this dataframe to an interactive table.\"\n",
              "            style=\"display:none;\">\n",
              "\n",
              "  <svg xmlns=\"http://www.w3.org/2000/svg\" height=\"24px\" viewBox=\"0 -960 960 960\">\n",
              "    <path d=\"M120-120v-720h720v720H120Zm60-500h600v-160H180v160Zm220 220h160v-160H400v160Zm0 220h160v-160H400v160ZM180-400h160v-160H180v160Zm440 0h160v-160H620v160ZM180-180h160v-160H180v160Zm440 0h160v-160H620v160Z\"/>\n",
              "  </svg>\n",
              "    </button>\n",
              "\n",
              "  <style>\n",
              "    .colab-df-container {\n",
              "      display:flex;\n",
              "      gap: 12px;\n",
              "    }\n",
              "\n",
              "    .colab-df-convert {\n",
              "      background-color: #E8F0FE;\n",
              "      border: none;\n",
              "      border-radius: 50%;\n",
              "      cursor: pointer;\n",
              "      display: none;\n",
              "      fill: #1967D2;\n",
              "      height: 32px;\n",
              "      padding: 0 0 0 0;\n",
              "      width: 32px;\n",
              "    }\n",
              "\n",
              "    .colab-df-convert:hover {\n",
              "      background-color: #E2EBFA;\n",
              "      box-shadow: 0px 1px 2px rgba(60, 64, 67, 0.3), 0px 1px 3px 1px rgba(60, 64, 67, 0.15);\n",
              "      fill: #174EA6;\n",
              "    }\n",
              "\n",
              "    .colab-df-buttons div {\n",
              "      margin-bottom: 4px;\n",
              "    }\n",
              "\n",
              "    [theme=dark] .colab-df-convert {\n",
              "      background-color: #3B4455;\n",
              "      fill: #D2E3FC;\n",
              "    }\n",
              "\n",
              "    [theme=dark] .colab-df-convert:hover {\n",
              "      background-color: #434B5C;\n",
              "      box-shadow: 0px 1px 3px 1px rgba(0, 0, 0, 0.15);\n",
              "      filter: drop-shadow(0px 1px 2px rgba(0, 0, 0, 0.3));\n",
              "      fill: #FFFFFF;\n",
              "    }\n",
              "  </style>\n",
              "\n",
              "    <script>\n",
              "      const buttonEl =\n",
              "        document.querySelector('#df-e0d55e64-4400-4c7a-a03c-844b0c57f375 button.colab-df-convert');\n",
              "      buttonEl.style.display =\n",
              "        google.colab.kernel.accessAllowed ? 'block' : 'none';\n",
              "\n",
              "      async function convertToInteractive(key) {\n",
              "        const element = document.querySelector('#df-e0d55e64-4400-4c7a-a03c-844b0c57f375');\n",
              "        const dataTable =\n",
              "          await google.colab.kernel.invokeFunction('convertToInteractive',\n",
              "                                                    [key], {});\n",
              "        if (!dataTable) return;\n",
              "\n",
              "        const docLinkHtml = 'Like what you see? Visit the ' +\n",
              "          '<a target=\"_blank\" href=https://colab.research.google.com/notebooks/data_table.ipynb>data table notebook</a>'\n",
              "          + ' to learn more about interactive tables.';\n",
              "        element.innerHTML = '';\n",
              "        dataTable['output_type'] = 'display_data';\n",
              "        await google.colab.output.renderOutput(dataTable, element);\n",
              "        const docLink = document.createElement('div');\n",
              "        docLink.innerHTML = docLinkHtml;\n",
              "        element.appendChild(docLink);\n",
              "      }\n",
              "    </script>\n",
              "  </div>\n",
              "\n",
              "\n",
              "    <div id=\"df-a0218263-acb5-40f2-a7ed-92e7d163428c\">\n",
              "      <button class=\"colab-df-quickchart\" onclick=\"quickchart('df-a0218263-acb5-40f2-a7ed-92e7d163428c')\"\n",
              "                title=\"Suggest charts\"\n",
              "                style=\"display:none;\">\n",
              "\n",
              "<svg xmlns=\"http://www.w3.org/2000/svg\" height=\"24px\"viewBox=\"0 0 24 24\"\n",
              "     width=\"24px\">\n",
              "    <g>\n",
              "        <path d=\"M19 3H5c-1.1 0-2 .9-2 2v14c0 1.1.9 2 2 2h14c1.1 0 2-.9 2-2V5c0-1.1-.9-2-2-2zM9 17H7v-7h2v7zm4 0h-2V7h2v10zm4 0h-2v-4h2v4z\"/>\n",
              "    </g>\n",
              "</svg>\n",
              "      </button>\n",
              "\n",
              "<style>\n",
              "  .colab-df-quickchart {\n",
              "      --bg-color: #E8F0FE;\n",
              "      --fill-color: #1967D2;\n",
              "      --hover-bg-color: #E2EBFA;\n",
              "      --hover-fill-color: #174EA6;\n",
              "      --disabled-fill-color: #AAA;\n",
              "      --disabled-bg-color: #DDD;\n",
              "  }\n",
              "\n",
              "  [theme=dark] .colab-df-quickchart {\n",
              "      --bg-color: #3B4455;\n",
              "      --fill-color: #D2E3FC;\n",
              "      --hover-bg-color: #434B5C;\n",
              "      --hover-fill-color: #FFFFFF;\n",
              "      --disabled-bg-color: #3B4455;\n",
              "      --disabled-fill-color: #666;\n",
              "  }\n",
              "\n",
              "  .colab-df-quickchart {\n",
              "    background-color: var(--bg-color);\n",
              "    border: none;\n",
              "    border-radius: 50%;\n",
              "    cursor: pointer;\n",
              "    display: none;\n",
              "    fill: var(--fill-color);\n",
              "    height: 32px;\n",
              "    padding: 0;\n",
              "    width: 32px;\n",
              "  }\n",
              "\n",
              "  .colab-df-quickchart:hover {\n",
              "    background-color: var(--hover-bg-color);\n",
              "    box-shadow: 0 1px 2px rgba(60, 64, 67, 0.3), 0 1px 3px 1px rgba(60, 64, 67, 0.15);\n",
              "    fill: var(--button-hover-fill-color);\n",
              "  }\n",
              "\n",
              "  .colab-df-quickchart-complete:disabled,\n",
              "  .colab-df-quickchart-complete:disabled:hover {\n",
              "    background-color: var(--disabled-bg-color);\n",
              "    fill: var(--disabled-fill-color);\n",
              "    box-shadow: none;\n",
              "  }\n",
              "\n",
              "  .colab-df-spinner {\n",
              "    border: 2px solid var(--fill-color);\n",
              "    border-color: transparent;\n",
              "    border-bottom-color: var(--fill-color);\n",
              "    animation:\n",
              "      spin 1s steps(1) infinite;\n",
              "  }\n",
              "\n",
              "  @keyframes spin {\n",
              "    0% {\n",
              "      border-color: transparent;\n",
              "      border-bottom-color: var(--fill-color);\n",
              "      border-left-color: var(--fill-color);\n",
              "    }\n",
              "    20% {\n",
              "      border-color: transparent;\n",
              "      border-left-color: var(--fill-color);\n",
              "      border-top-color: var(--fill-color);\n",
              "    }\n",
              "    30% {\n",
              "      border-color: transparent;\n",
              "      border-left-color: var(--fill-color);\n",
              "      border-top-color: var(--fill-color);\n",
              "      border-right-color: var(--fill-color);\n",
              "    }\n",
              "    40% {\n",
              "      border-color: transparent;\n",
              "      border-right-color: var(--fill-color);\n",
              "      border-top-color: var(--fill-color);\n",
              "    }\n",
              "    60% {\n",
              "      border-color: transparent;\n",
              "      border-right-color: var(--fill-color);\n",
              "    }\n",
              "    80% {\n",
              "      border-color: transparent;\n",
              "      border-right-color: var(--fill-color);\n",
              "      border-bottom-color: var(--fill-color);\n",
              "    }\n",
              "    90% {\n",
              "      border-color: transparent;\n",
              "      border-bottom-color: var(--fill-color);\n",
              "    }\n",
              "  }\n",
              "</style>\n",
              "\n",
              "      <script>\n",
              "        async function quickchart(key) {\n",
              "          const quickchartButtonEl =\n",
              "            document.querySelector('#' + key + ' button');\n",
              "          quickchartButtonEl.disabled = true;  // To prevent multiple clicks.\n",
              "          quickchartButtonEl.classList.add('colab-df-spinner');\n",
              "          try {\n",
              "            const charts = await google.colab.kernel.invokeFunction(\n",
              "                'suggestCharts', [key], {});\n",
              "          } catch (error) {\n",
              "            console.error('Error during call to suggestCharts:', error);\n",
              "          }\n",
              "          quickchartButtonEl.classList.remove('colab-df-spinner');\n",
              "          quickchartButtonEl.classList.add('colab-df-quickchart-complete');\n",
              "        }\n",
              "        (() => {\n",
              "          let quickchartButtonEl =\n",
              "            document.querySelector('#df-a0218263-acb5-40f2-a7ed-92e7d163428c button');\n",
              "          quickchartButtonEl.style.display =\n",
              "            google.colab.kernel.accessAllowed ? 'block' : 'none';\n",
              "        })();\n",
              "      </script>\n",
              "    </div>\n",
              "\n",
              "    </div>\n",
              "  </div>\n"
            ],
            "application/vnd.google.colaboratory.intrinsic+json": {
              "type": "dataframe",
              "variable_name": "movies_data"
            }
          },
          "metadata": {},
          "execution_count": 5
        }
      ]
    },
    {
      "cell_type": "code",
      "source": [
        "#number of rows and columns in the dataframe\n",
        "movies_data.shape"
      ],
      "metadata": {
        "colab": {
          "base_uri": "https://localhost:8080/"
        },
        "id": "xswjeoAHnQBY",
        "outputId": "4b23bf81-75fe-4340-abc9-65420e7d3cab"
      },
      "execution_count": null,
      "outputs": [
        {
          "output_type": "execute_result",
          "data": {
            "text/plain": [
              "(533, 24)"
            ]
          },
          "metadata": {},
          "execution_count": 6
        }
      ]
    },
    {
      "cell_type": "code",
      "source": [
        "#selecting the relevant features for recommendation\n",
        "selected_features = ['genres','keywords','tagline','cast','director']\n",
        "print(selected_features)"
      ],
      "metadata": {
        "colab": {
          "base_uri": "https://localhost:8080/"
        },
        "id": "DnAaZoteoDAF",
        "outputId": "cd5e6972-32e5-4c88-dfc4-297f5e437b19"
      },
      "execution_count": null,
      "outputs": [
        {
          "output_type": "stream",
          "name": "stdout",
          "text": [
            "['genres', 'keywords', 'tagline', 'cast', 'director']\n"
          ]
        }
      ]
    },
    {
      "cell_type": "code",
      "source": [
        "#replacing the missing values with null values\n",
        "\n",
        "for feature in selected_features:\n",
        "  movies_data[feature] = movies_data[feature].fillna('')"
      ],
      "metadata": {
        "id": "PrDxxVzzpjMX"
      },
      "execution_count": null,
      "outputs": []
    },
    {
      "cell_type": "code",
      "source": [
        "#combining all the 5 selected features\n",
        "\n",
        "combined_features = movies_data['genres']+' '+movies_data['keywords']+' '+movies_data['tagline']+' '+movies_data['cast']+' '+movies_data['director']"
      ],
      "metadata": {
        "id": "yFppyD0zqPiB"
      },
      "execution_count": null,
      "outputs": []
    },
    {
      "cell_type": "code",
      "source": [
        "print(combined_features)"
      ],
      "metadata": {
        "colab": {
          "base_uri": "https://localhost:8080/"
        },
        "id": "3Pv7-6RvreuB",
        "outputId": "931c7595-77e1-4681-9448-83e6554b6c8e"
      },
      "execution_count": null,
      "outputs": [
        {
          "output_type": "stream",
          "name": "stdout",
          "text": [
            "0      Action Adventure Fantasy Science Fiction cultu...\n",
            "1      Adventure Fantasy Action ocean drug abuse exot...\n",
            "2      Action Adventure Crime spy based on novel secr...\n",
            "3      Action Crime Drama Thriller dc comics crime fi...\n",
            "4      Action Adventure Science Fiction based on nove...\n",
            "                             ...                        \n",
            "528    Drama Action History Thriller paris assassinat...\n",
            "529    Action Drama War u.s. army nigeria president H...\n",
            "530    Action Comedy Thriller Romance assassin Perfec...\n",
            "531    Comedy Action Adventure spy cold war remake ba...\n",
            "532    Comedy upper class mother single parent parent...\n",
            "Length: 533, dtype: object\n"
          ]
        }
      ]
    },
    {
      "cell_type": "code",
      "source": [
        "#converting the text data to feature vector\n",
        "\n",
        "vectorizer = TfidfVectorizer()"
      ],
      "metadata": {
        "id": "PHkG-Xy1rnsR"
      },
      "execution_count": null,
      "outputs": []
    },
    {
      "cell_type": "code",
      "source": [
        "feature_vectors = vectorizer.fit_transform(combined_features)"
      ],
      "metadata": {
        "id": "8upAV93Mr7F_"
      },
      "execution_count": null,
      "outputs": []
    },
    {
      "cell_type": "code",
      "source": [
        "print(feature_vectors)"
      ],
      "metadata": {
        "colab": {
          "base_uri": "https://localhost:8080/"
        },
        "id": "dv6dxeP6sc47",
        "outputId": "cbbb4dc0-0eac-4f5e-c929-4787dcbed312"
      },
      "execution_count": null,
      "outputs": [
        {
          "output_type": "stream",
          "name": "stdout",
          "text": [
            "<Compressed Sparse Row sparse matrix of dtype 'float64'\n",
            "\twith 14943 stored elements and shape (533, 4243)>\n",
            "  Coords\tValues\n",
            "  (0, 31)\t0.060394421689375886\n",
            "  (0, 48)\t0.061050160619995616\n",
            "  (0, 1279)\t0.08722004770771886\n",
            "  (0, 3321)\t0.08564885193465269\n",
            "  (0, 1314)\t0.08564885193465269\n",
            "  (0, 890)\t0.24491017404312235\n",
            "  (0, 723)\t0.2298352109827025\n",
            "  (0, 1440)\t0.15252275227722106\n",
            "  (0, 3520)\t0.3050455045544421\n",
            "  (0, 4044)\t0.13543760055412712\n",
            "  (0, 764)\t0.2298352109827025\n",
            "  (0, 3491)\t0.19833315645054664\n",
            "  (0, 1204)\t0.24491017404312235\n",
            "  (0, 3739)\t0.07065945722866872\n",
            "  (0, 4178)\t0.1230677890743829\n",
            "  (0, 2719)\t0.10550573625247181\n",
            "  (0, 2809)\t0.2298352109827025\n",
            "  (0, 3268)\t0.15410509463516792\n",
            "  (0, 4182)\t0.21084300362725736\n",
            "  (0, 4235)\t0.21084300362725736\n",
            "  (0, 3262)\t0.21084300362725736\n",
            "  (0, 3438)\t0.24491017404312235\n",
            "  (0, 4076)\t0.2298352109827025\n",
            "  (0, 3576)\t0.18898942835378885\n",
            "  (0, 2139)\t0.24491017404312235\n",
            "  :\t:\n",
            "  (532, 1274)\t0.07935331879222897\n",
            "  (532, 1659)\t0.14103687058135203\n",
            "  (532, 3086)\t0.2744158692560324\n",
            "  (532, 771)\t0.07935331879222897\n",
            "  (532, 1715)\t0.1424120956034723\n",
            "  (532, 530)\t0.15203487874170382\n",
            "  (532, 3450)\t0.2066692618148818\n",
            "  (532, 2821)\t0.21675647218520105\n",
            "  (532, 2065)\t0.2066692618148818\n",
            "  (532, 1230)\t0.16534120546156528\n",
            "  (532, 2196)\t0.19884501358939027\n",
            "  (532, 4117)\t0.19884501358939027\n",
            "  (532, 1808)\t0.19245213730498784\n",
            "  (532, 724)\t0.21675647218520105\n",
            "  (532, 522)\t0.19245213730498784\n",
            "  (532, 738)\t0.21675647218520105\n",
            "  (532, 2168)\t0.21675647218520105\n",
            "  (532, 32)\t0.14852557803189811\n",
            "  (532, 2572)\t0.19245213730498784\n",
            "  (532, 3279)\t0.1603235541992831\n",
            "  (532, 2822)\t0.21675647218520105\n",
            "  (532, 3950)\t0.230973596695095\n",
            "  (532, 2849)\t0.230973596695095\n",
            "  (532, 3968)\t0.230973596695095\n",
            "  (532, 3406)\t0.230973596695095\n"
          ]
        }
      ]
    },
    {
      "cell_type": "markdown",
      "source": [
        "Cosine Similarity"
      ],
      "metadata": {
        "id": "bEk4U0ogsqxH"
      }
    },
    {
      "cell_type": "code",
      "source": [
        "#getting the similarity scores using cosine similarity\n",
        "\n",
        "similarity = cosine_similarity(feature_vectors)"
      ],
      "metadata": {
        "id": "NdUhgTARspJ5"
      },
      "execution_count": null,
      "outputs": []
    },
    {
      "cell_type": "code",
      "source": [
        "print(similarity)"
      ],
      "metadata": {
        "colab": {
          "base_uri": "https://localhost:8080/"
        },
        "id": "HRX3p1ldtHdV",
        "outputId": "f0492687-7eb8-4e14-ea23-adb3b7e3e9af"
      },
      "execution_count": null,
      "outputs": [
        {
          "output_type": "stream",
          "name": "stdout",
          "text": [
            "[[1.         0.07219487 0.037733   ... 0.         0.         0.        ]\n",
            " [0.07219487 1.         0.03281499 ... 0.03575545 0.         0.        ]\n",
            " [0.037733   0.03281499 1.         ... 0.         0.05389661 0.        ]\n",
            " ...\n",
            " [0.         0.03575545 0.         ... 1.         0.         0.02651502]\n",
            " [0.         0.         0.05389661 ... 0.         1.         0.        ]\n",
            " [0.         0.         0.         ... 0.02651502 0.         1.        ]]\n"
          ]
        }
      ]
    },
    {
      "cell_type": "code",
      "source": [
        "print(similarity.shape)"
      ],
      "metadata": {
        "colab": {
          "base_uri": "https://localhost:8080/"
        },
        "id": "vyctvnWgtMyz",
        "outputId": "56712fdf-f280-413c-84aa-cad4b9331f44"
      },
      "execution_count": null,
      "outputs": [
        {
          "output_type": "stream",
          "name": "stdout",
          "text": [
            "(533, 533)\n"
          ]
        }
      ]
    },
    {
      "cell_type": "code",
      "source": [
        "#getting the movie name from user\n",
        "\n",
        "movie_name = input('Enter your favourite movie name:')"
      ],
      "metadata": {
        "colab": {
          "base_uri": "https://localhost:8080/"
        },
        "id": "GJmYsnDdtRsS",
        "outputId": "24800441-ed56-4702-ff6e-67491ef86bc3"
      },
      "execution_count": null,
      "outputs": [
        {
          "name": "stdout",
          "output_type": "stream",
          "text": [
            "Enter your favourite movie name:iron man\n"
          ]
        }
      ]
    },
    {
      "cell_type": "code",
      "source": [
        "#creating a list with all the movie names given in the dataset\n",
        "list_of_all_titles = movies_data['title'].tolist()\n",
        "print(list_of_all_titles)"
      ],
      "metadata": {
        "colab": {
          "base_uri": "https://localhost:8080/"
        },
        "id": "kawlT84lt0Cv",
        "outputId": "bfb044db-12b9-4952-e076-f07d70c3fcfa"
      },
      "execution_count": null,
      "outputs": [
        {
          "output_type": "stream",
          "name": "stdout",
          "text": [
            "['Avatar', \"Pirates of the Caribbean: At World's End\", 'Spectre', 'The Dark Knight Rises', 'John Carter', 'Spider-Man 3', 'Tangled', 'Avengers: Age of Ultron', 'Harry Potter and the Half-Blood Prince', 'Batman v Superman: Dawn of Justice', 'Superman Returns', 'Quantum of Solace', \"Pirates of the Caribbean: Dead Man's Chest\", 'The Lone Ranger', 'Man of Steel', 'The Chronicles of Narnia: Prince Caspian', 'The Avengers', 'Pirates of the Caribbean: On Stranger Tides', 'Men in Black 3', 'The Hobbit: The Battle of the Five Armies', 'The Amazing Spider-Man', 'Robin Hood', 'The Hobbit: The Desolation of Smaug', 'The Golden Compass', 'King Kong', 'Titanic', 'Captain America: Civil War', 'Battleship', 'Jurassic World', 'Skyfall', 'Spider-Man 2', 'Iron Man 3', 'Alice in Wonderland', 'X-Men: The Last Stand', 'Monsters University', 'Transformers: Revenge of the Fallen', 'Transformers: Age of Extinction', 'Oz: The Great and Powerful', 'The Amazing Spider-Man 2', 'TRON: Legacy', 'Cars 2', 'Green Lantern', 'Toy Story 3', 'Terminator Salvation', 'Furious 7', 'World War Z', 'X-Men: Days of Future Past', 'Star Trek Into Darkness', 'Jack the Giant Slayer', 'The Great Gatsby', 'Prince of Persia: The Sands of Time', 'Pacific Rim', 'Transformers: Dark of the Moon', 'Indiana Jones and the Kingdom of the Crystal Skull', 'The Good Dinosaur', 'Brave', 'Star Trek Beyond', 'WALL·E', 'Rush Hour 3', '2012', 'A Christmas Carol', 'Jupiter Ascending', 'The Legend of Tarzan', 'The Chronicles of Narnia: The Lion, the Witch and the Wardrobe', 'X-Men: Apocalypse', 'The Dark Knight', 'Up', 'Monsters vs Aliens', 'Iron Man', 'Hugo', 'Wild Wild West', 'The Mummy: Tomb of the Dragon Emperor', 'Suicide Squad', 'Evan Almighty', 'Edge of Tomorrow', 'Waterworld', 'G.I. Joe: The Rise of Cobra', 'Inside Out', 'The Jungle Book', 'Iron Man 2', 'Snow White and the Huntsman', 'Maleficent', 'Dawn of the Planet of the Apes', 'The Lovers', '47 Ronin', 'Captain America: The Winter Soldier', 'Shrek Forever After', 'Tomorrowland', 'Big Hero 6', 'Wreck-It Ralph', 'The Polar Express', 'Independence Day: Resurgence', 'How to Train Your Dragon', 'Terminator 3: Rise of the Machines', 'Guardians of the Galaxy', 'Interstellar', 'Inception', 'Shin Godzilla', 'The Hobbit: An Unexpected Journey', 'The Fast and the Furious', 'The Curious Case of Benjamin Button', 'X-Men: First Class', 'The Hunger Games: Mockingjay - Part 2', \"The Sorcerer's Apprentice\", 'Poseidon', 'Alice Through the Looking Glass', 'Shrek the Third', 'Warcraft', 'Terminator Genisys', 'The Chronicles of Narnia: The Voyage of the Dawn Treader', 'Pearl Harbor', 'Transformers', 'Alexander', 'Harry Potter and the Order of the Phoenix', 'Harry Potter and the Goblet of Fire', 'Hancock', 'I Am Legend', 'Charlie and the Chocolate Factory', 'Ratatouille', 'Batman Begins', 'Madagascar: Escape 2 Africa', 'Night at the Museum: Battle of the Smithsonian', 'X-Men Origins: Wolverine', 'The Matrix Revolutions', 'Frozen', 'The Matrix Reloaded', 'Thor: The Dark World', 'Mad Max: Fury Road', 'Angels & Demons', 'Thor', 'Bolt', 'G-Force', 'Wrath of the Titans', 'Dark Shadows', 'Mission: Impossible - Rogue Nation', 'The Wolfman', 'Bee Movie', 'Kung Fu Panda 2', 'The Last Airbender', 'Mission: Impossible III', 'White House Down', 'Mars Needs Moms', 'Flushed Away', 'Pan', 'Mr. Peabody & Sherman', 'Troy', \"Madagascar 3: Europe's Most Wanted\", 'Die Another Day', 'Ghostbusters', 'Armageddon', 'Men in Black II', 'Beowulf', 'Kung Fu Panda 3', 'Mission: Impossible - Ghost Protocol', 'Rise of the Guardians', 'Fun with Dick and Jane', 'The Last Samurai', 'Exodus: Gods and Kings', 'Star Trek', 'Spider-Man', 'How to Train Your Dragon 2', 'Gods of Egypt', 'Stealth', 'Watchmen', 'Lethal Weapon 4', 'Hulk', 'G.I. Joe: Retaliation', 'Sahara', 'Final Fantasy: The Spirits Within', 'Captain America: The First Avenger', 'The World Is Not Enough', 'Master and Commander: The Far Side of the World', 'The Twilight Saga: Breaking Dawn - Part 2', 'Happy Feet Two', 'The Incredible Hulk', 'The BFG', 'The Revenant', 'Turbo', 'Rango', 'Penguins of Madagascar', 'The Bourne Ultimatum', 'Kung Fu Panda', 'Ant-Man', 'The Hunger Games: Catching Fire', 'Home', 'War of the Worlds', 'Bad Boys II', 'Puss in Boots', 'Salt', 'Noah', 'The Adventures of Tintin', 'Harry Potter and the Prisoner of Azkaban', 'Australia', 'After Earth', 'Dinosaur', 'Night at the Museum: Secret of the Tomb', 'Megamind', \"Harry Potter and the Philosopher's Stone\", 'R.I.P.D.', 'Pirates of the Caribbean: The Curse of the Black Pearl', 'The Hunger Games: Mockingjay - Part 1', 'The Da Vinci Code', 'Rio 2', 'X2', 'Fast Five', 'Sherlock Holmes: A Game of Shadows', 'Clash of the Titans', 'Total Recall', 'The 13th Warrior', 'The Bourne Legacy', 'Batman & Robin', 'How the Grinch Stole Christmas', 'The Day After Tomorrow', 'Mission: Impossible II', 'The Perfect Storm', 'Fantastic 4: Rise of the Silver Surfer', 'Life of Pi', 'Ghost Rider', 'Jason Bourne', \"Charlie's Angels: Full Throttle\", 'Prometheus', 'Stuart Little 2', 'Elysium', 'The Chronicles of Riddick', 'RoboCop', 'Speed Racer', 'How Do You Know', 'Knight and Day', 'Oblivion', 'Star Wars: Episode III - Revenge of the Sith', 'Star Wars: Episode II - Attack of the Clones', 'Monsters, Inc.', 'The Wolverine', 'Star Wars: Episode I - The Phantom Menace', 'The Croods', 'Asterix at the Olympic Games', 'Windtalkers', \"The Huntsman: Winter's War\", 'Teenage Mutant Ninja Turtles', 'Gravity', \"Dante's Peak\", 'Teenage Mutant Ninja Turtles: Out of the Shadows', 'Fantastic Four', 'Night at the Museum', 'San Andreas', 'Tomorrow Never Dies', 'The Patriot', \"Ocean's Twelve\", 'Mr. & Mrs. Smith', 'Insurgent', 'The Aviator', \"Gulliver's Travels\", 'The Green Hornet', '300: Rise of an Empire', 'The Smurfs', 'Home on the Range', 'Allegiant', 'Real Steel', 'The Smurfs 2', 'Speed 2: Cruise Control', \"Ender's Game\", 'Live Free or Die Hard', 'The Lord of the Rings: The Fellowship of the Ring', 'Around the World in 80 Days', 'Ali', 'The Cat in the Hat', 'I, Robot', 'Kingdom of Heaven', 'Stuart Little', 'The Princess and the Frog', 'The Martian', 'The Island', 'Town & Country', 'Gone in Sixty Seconds', 'Gladiator', 'Minority Report', 'Harry Potter and the Chamber of Secrets', 'Casino Royale', 'Planet of the Apes', 'Terminator 2: Judgment Day', 'Public Enemies', 'American Gangster', 'True Lies', 'The Taking of Pelham 1 2 3', 'Little Fockers', 'The Other Guys', 'Eraser', 'Django Unchained', 'The Hunchback of Notre Dame', \"The Emperor's New Groove\", 'The Expendables 2', 'National Treasure', 'Eragon', 'Where the Wild Things Are', 'Epic', 'The Tourist', 'End of Days', 'Blood Diamond', 'The Wolf of Wall Street', 'Batman Forever', 'Starship Troopers', 'Cloud Atlas', \"Legend of the Guardians: The Owls of Ga'Hoole\", 'Catwoman', 'Hercules', 'Treasure Planet', 'Land of the Lost', 'The Expendables 3', 'Point Break', 'Son of the Mask', 'In the Heart of the Sea', 'The Adventures of Pluto Nash', 'Green Zone', 'The Peanuts Movie', 'The Spanish Prisoner', 'The Mummy Returns', 'Gangs of New York', 'The Flowers of War', \"Surf's Up\", 'The Stepford Wives', 'Black Hawk Down', 'The Campaign', 'The Fifth Element', 'Sex and the City 2', 'The Road to El Dorado', 'Ice Age: Continental Drift', 'Cinderella', 'The Lovely Bones', 'Finding Nemo', 'The Lord of the Rings: The Return of the King', 'The Lord of the Rings: The Two Towers', 'Seventh Son', 'Lara Croft: Tomb Raider', 'Transcendence', 'Jurassic Park III', 'Rise of the Planet of the Apes', 'The Spiderwick Chronicles', 'A Good Day to Die Hard', 'The Alamo', 'The Incredibles', 'Cutthroat Island', 'Percy Jackson & the Olympians: The Lightning Thief', 'Men in Black', 'Toy Story 2', 'Unstoppable', 'Rush Hour 2', 'What Lies Beneath', 'Cloudy with a Chance of Meatballs', 'Ice Age: Dawn of the Dinosaurs', 'The Secret Life of Walter Mitty', \"Charlie's Angels\", 'The Departed', 'Mulan', 'Tropic Thunder', 'The Girl with the Dragon Tattoo', 'Die Hard: With a Vengeance', 'Sherlock Holmes', 'Ben-Hur', 'Atlantis: The Lost Empire', 'Alvin and the Chipmunks: The Road Chip', 'Valkyrie', \"You Don't Mess with the Zohan\", 'Pixels', 'A.I. Artificial Intelligence', 'The Haunted Mansion', 'Contact', 'Hollow Man', 'The Interpreter', 'Percy Jackson: Sea of Monsters', 'Lara Croft Tomb Raider: The Cradle of Life', 'Now You See Me 2', 'The Saint', 'Spy Game', 'Mission to Mars', 'Rio', 'Bicentennial Man', 'Volcano', \"The Devil's Own\", 'K-19: The Widowmaker', 'Conan the Barbarian', 'Cinderella Man', 'The Nutcracker: The Untold Story', 'Seabiscuit', 'Twister', 'Cast Away', 'Happy Feet', 'The Bourne Supremacy', 'Air Force One', \"Ocean's Eleven\", 'The Three Musketeers', 'Hotel Transylvania', 'Enchanted', 'Safe House', '102 Dalmatians', 'Tower Heist', 'The Holiday', 'Enemy of the State', \"It's Complicated\", \"Ocean's Thirteen\", 'Open Season', 'Divergent', 'Enemy at the Gates', 'The Rundown', 'Last Action Hero', 'Memoirs of a Geisha', 'The Fast and the Furious: Tokyo Drift', 'Arthur Christmas', 'Meet Joe Black', 'Collateral Damage', 'All That Jazz', 'Mirror Mirror', 'Scott Pilgrim vs. the World', 'The Core', 'Nutty Professor II: The Klumps', 'Scooby-Doo', 'Dredd', 'Click', 'Creepshow', 'Cats & Dogs 2 : The Revenge of Kitty Galore', 'Jumper', 'Hellboy II: The Golden Army', 'Zodiac', 'The 6th Day', 'Bruce Almighty', 'The Expendables', 'Mission: Impossible', 'The Hunger Games', 'The Hangover Part II', 'Batman Returns', 'Over the Hedge', 'Lilo & Stitch', \"Charlotte's Web\", 'Deep Impact', 'RED 2', 'The Longest Yard', 'Alvin and the Chipmunks: Chipwrecked', 'Grown Ups 2', 'Get Smart', \"Something's Gotta Give\", 'Shutter Island', 'Four Christmases', 'Robots', 'Face/Off', 'Bedtime Stories', 'Road to Perdition', 'Just Go with It', 'Con Air', 'Eagle Eye', 'Cold Mountain', 'The Book of Eli', 'Flubber', 'The Haunting', 'Space Jam', 'The Pink Panther', 'The Day the Earth Stood Still', 'Conspiracy Theory', 'Fury', 'Six Days Seven Nights', 'Yogi Bear', 'Spirit: Stallion of the Cimarron', 'Zookeeper', 'Lost in Space', 'The Manchurian Candidate', 'Déjà Vu', 'Hotel Transylvania 2', 'Fantasia 2000', 'The Time Machine', 'Mighty Joe Young', 'Swordfish', 'The Legend of Zorro', 'What Dreams May Come', 'Little Nicky', 'The Brothers Grimm', 'Mars Attacks!', 'Evolution', 'The Edge', 'Surrogates', 'Thirteen Days', 'Daylight', 'Walking With Dinosaurs', 'Battlefield Earth', 'Looney Tunes: Back in Action', 'Nine', 'Timeline', 'The Postman', 'Babe: Pig in the City', 'The Last Witch Hunter', 'Red Planet', 'Arthur and the Invisibles', 'Oceans', 'A Sound of Thunder', 'Pompeii', 'Top Cat Begins', 'A Beautiful Mind', 'The Lion King', 'Journey 2: The Mysterious Island', 'Cloudy with a Chance of Meatballs 2', 'Red Dragon', 'Hidalgo', 'Jack and Jill', '2 Fast 2 Furious', 'The Little Prince', 'The Invasion', 'The Adventures of Rocky & Bullwinkle', 'The Secret Life of Pets', 'The League of Extraordinary Gentlemen', 'Despicable Me 2', 'Independence Day', 'The Lost World: Jurassic Park', 'Madagascar', 'Children of Men', 'X-Men', 'Wanted', 'The Rock', 'Ice Age: The Meltdown', '50 First Dates', 'Hairspray', 'Exorcist: The Beginning', 'Inspector Gadget', 'Now You See Me', 'Grown Ups', 'The Terminal', 'Hotel for Dogs', 'Vertical Limit', \"Charlie Wilson's War\", 'Shark Tale', 'Dreamgirls', 'Be Cool', 'Munich', 'Tears of the Sun', 'Killers', 'The Man from U.N.C.L.E.', 'Spanglish']\n"
          ]
        }
      ]
    },
    {
      "cell_type": "code",
      "source": [
        "#finding the close match for thr movie name given by the user\n",
        "\n",
        "find_close_match = difflib.get_close_matches(movie_name,list_of_all_titles)\n",
        "print(find_close_match)"
      ],
      "metadata": {
        "colab": {
          "base_uri": "https://localhost:8080/"
        },
        "id": "-dBP70CauSZb",
        "outputId": "79654052-ddda-41a3-8ebb-bdd6026a33fe"
      },
      "execution_count": null,
      "outputs": [
        {
          "output_type": "stream",
          "name": "stdout",
          "text": [
            "['Iron Man', 'Iron Man 3', 'Iron Man 2']\n"
          ]
        }
      ]
    },
    {
      "cell_type": "code",
      "source": [
        "close_match = find_close_match[0]\n",
        "print(close_match)"
      ],
      "metadata": {
        "colab": {
          "base_uri": "https://localhost:8080/"
        },
        "id": "oO5kSb6-vAZQ",
        "outputId": "7c356973-0308-4349-cd7a-1524d99607e1"
      },
      "execution_count": null,
      "outputs": [
        {
          "output_type": "stream",
          "name": "stdout",
          "text": [
            "Iron Man\n"
          ]
        }
      ]
    },
    {
      "cell_type": "code",
      "source": [
        "#finding the index of the movie with title\n",
        "\n",
        "index_of_the_movie = movies_data[movies_data.title == close_match]['index'].values[0]\n",
        "print(index_of_the_movie)"
      ],
      "metadata": {
        "colab": {
          "base_uri": "https://localhost:8080/"
        },
        "id": "0mlM6HhjvThS",
        "outputId": "ef97d142-5d9c-4559-b655-2fa83b798c94"
      },
      "execution_count": null,
      "outputs": [
        {
          "output_type": "stream",
          "name": "stdout",
          "text": [
            "68\n"
          ]
        }
      ]
    },
    {
      "cell_type": "code",
      "source": [
        "#getting a list of similar movies\n",
        "\n",
        "similarity_score = list(enumerate(similarity[index_of_the_movie]))\n",
        "print(similarity_score)"
      ],
      "metadata": {
        "colab": {
          "base_uri": "https://localhost:8080/"
        },
        "id": "_XHO-ed8wZtl",
        "outputId": "653c8876-4bd8-4015-8e52-40c0c83a8c5f"
      },
      "execution_count": null,
      "outputs": [
        {
          "output_type": "stream",
          "name": "stdout",
          "text": [
            "[(0, np.float64(0.021314313094813846)), (1, np.float64(0.04735711955558237)), (2, np.float64(0.007791737379751846)), (3, np.float64(0.003997677353250027)), (4, np.float64(0.020208677471289176)), (5, np.float64(0.007266820654880758)), (6, np.float64(0.0902048763513027)), (7, np.float64(0.20123954881191936)), (8, np.float64(0.003951034059364093)), (9, np.float64(0.052979958792365875)), (10, np.float64(0.05351719406517293)), (11, np.float64(0.006171478423257472)), (12, np.float64(0.007772079021351156)), (13, np.float64(0.006615208130106753)), (14, np.float64(0.06738298347054403)), (15, np.float64(0.003597767265717092)), (16, np.float64(0.19429425979491927)), (17, np.float64(0.006947857587526831)), (18, np.float64(0.03753430628411818)), (19, np.float64(0.07487405103137468)), (20, np.float64(0.04915422626180025)), (21, np.float64(0.006171762010668024)), (22, np.float64(0.003467772548188023)), (23, np.float64(0.00322806828276093)), (24, np.float64(0.006123499507384207)), (25, np.float64(0.0)), (26, np.float64(0.17400898514369095)), (27, np.float64(0.020302882137860963)), (28, np.float64(0.052787304244008695)), (29, np.float64(0.007470219039611309)), (30, np.float64(0.04882336572150633)), (31, np.float64(0.28182882485652894)), (32, np.float64(0.032594722118156706)), (33, np.float64(0.09059045269144067)), (34, np.float64(0.0)), (35, np.float64(0.023883670962777)), (36, np.float64(0.02176404581392322)), (37, np.float64(0.0038281062844983615)), (38, np.float64(0.07075939057604508)), (39, np.float64(0.08255746174958994)), (40, np.float64(0.003815182337973563)), (41, np.float64(0.04520410624822484)), (42, np.float64(0.0)), (43, np.float64(0.0507301881010119)), (44, np.float64(0.0037525907211068054)), (45, np.float64(0.01651806250777737)), (46, np.float64(0.10700057241116256)), (47, np.float64(0.025256008539942157)), (48, np.float64(0.007809284976516572)), (49, np.float64(0.0)), (50, np.float64(0.007041933952145097)), (51, np.float64(0.01843855124205711)), (52, np.float64(0.0200719013375437)), (53, np.float64(0.011890887243430603)), (54, np.float64(0.047258726820905914)), (55, np.float64(0.007343106932314352)), (56, np.float64(0.025465823167406892)), (57, np.float64(0.037099125320702635)), (58, np.float64(0.004223118271083261)), (59, np.float64(0.02085213201409554)), (60, np.float64(0.018973967625691417)), (61, np.float64(0.02174567758643953)), (62, np.float64(0.007430779322158238)), (63, np.float64(0.0035157406686772926)), (64, np.float64(0.1037512797559809)), (65, np.float64(0.0035528133677492604)), (66, np.float64(0.003506505998996983)), (67, np.float64(0.01852964492849046)), (68, np.float64(1.0000000000000002)), (69, np.float64(0.0060648046343533095)), (70, np.float64(0.021032473846554392)), (71, np.float64(0.008998249685904097)), (72, np.float64(0.052605994470767914)), (73, np.float64(0.0)), (74, np.float64(0.0186125359928473)), (75, np.float64(0.007099626785521722)), (76, np.float64(0.042902551992838836)), (77, np.float64(0.0)), (78, np.float64(0.07871548078919488)), (79, np.float64(0.361079505592804)), (80, np.float64(0.004068932030774303)), (81, np.float64(0.020756870810930503)), (82, np.float64(0.01865106520726696)), (83, np.float64(0.023095613150879143)), (84, np.float64(0.0060226009712064455)), (85, np.float64(0.159189526715827)), (86, np.float64(0.003143850238889377)), (87, np.float64(0.01802630738761497)), (88, np.float64(0.006884673618348155)), (89, np.float64(0.003097968830361498)), (90, np.float64(0.02246600407293928)), (91, np.float64(0.07121374612401184)), (92, np.float64(0.007699879689954692)), (93, np.float64(0.017687029562606198)), (94, np.float64(0.09415118571177704)), (95, np.float64(0.046744088345323356)), (96, np.float64(0.020649614405246403)), (97, np.float64(0.018525057111307225)), (98, np.float64(0.04412635464057747)), (99, np.float64(0.0033608349266467216)), (100, np.float64(0.0)), (101, np.float64(0.09492181284636889)), (102, np.float64(0.02263925452371246)), (103, np.float64(0.03341369623523126)), (104, np.float64(0.007360326470049537)), (105, np.float64(0.0)), (106, np.float64(0.003702732973712522)), (107, np.float64(0.026704606331299008)), (108, np.float64(0.02180334414335032)), (109, np.float64(0.0027670683577046716)), (110, np.float64(0.04232789972935151)), (111, np.float64(0.023598676894310118)), (112, np.float64(0.007119344111876275)), (113, np.float64(0.003862785064080753)), (114, np.float64(0.0033656875510920813)), (115, np.float64(0.0032628537921054776)), (116, np.float64(0.015891640096858554)), (117, np.float64(0.00335920991043498)), (118, np.float64(0.0)), (119, np.float64(0.0037605397512789763)), (120, np.float64(0.0)), (121, np.float64(0.0069020173726461655)), (122, np.float64(0.0671084964015012)), (123, np.float64(0.020211658240939765)), (124, np.float64(0.003385208799079872)), (125, np.float64(0.020281239860401937)), (126, np.float64(0.09411971619219889)), (127, np.float64(0.02281593359418066)), (128, np.float64(0.03487960054737016)), (129, np.float64(0.052767093316876935)), (130, np.float64(0.003299789683010583)), (131, np.float64(0.11399660939205405)), (132, np.float64(0.00360065872056133)), (133, np.float64(0.0)), (134, np.float64(0.006993178498728377)), (135, np.float64(0.0)), (136, np.float64(0.033874220966042756)), (137, np.float64(0.0)), (138, np.float64(0.10797835075936249)), (139, np.float64(0.0067723828743388725)), (140, np.float64(0.0034618457674803274)), (141, np.float64(0.0034723987199117064)), (142, np.float64(0.003935125444921109)), (143, np.float64(0.003807265951181945)), (144, np.float64(0.0035120616571840675)), (145, np.float64(0.0028837780844887867)), (146, np.float64(0.04032275507488774)), (147, np.float64(0.006580299021508785)), (148, np.float64(0.0034288800810209083)), (149, np.float64(0.02147163869014341)), (150, np.float64(0.020867898389973966)), (151, np.float64(0.025585311615176184)), (152, np.float64(0.006952019920779067)), (153, np.float64(0.0067853570973008)), (154, np.float64(0.0)), (155, np.float64(0.0)), (156, np.float64(0.0028118387453057616)), (157, np.float64(0.007479120724771754)), (158, np.float64(0.023671916580285106)), (159, np.float64(0.0032257550768463143)), (160, np.float64(0.00715466326449549)), (161, np.float64(0.0)), (162, np.float64(0.004242018205166325)), (163, np.float64(0.033233551904207896)), (164, np.float64(0.010733335619010994)), (165, np.float64(0.019385920577236194)), (166, np.float64(0.055372140356242217)), (167, np.float64(0.011086600389774345)), (168, np.float64(0.021391035309696577)), (169, np.float64(0.0960861764711727)), (170, np.float64(0.021149076744217798)), (171, np.float64(0.0034006557472528063)), (172, np.float64(0.02072644754613188)), (173, np.float64(0.0)), (174, np.float64(0.09663328879617585)), (175, np.float64(0.0034387440656504817)), (176, np.float64(0.00320243415875422)), (177, np.float64(0.0)), (178, np.float64(0.033631210732315654)), (179, np.float64(0.0038403359213818023)), (180, np.float64(0.003780569924819143)), (181, np.float64(0.003847711651995154)), (182, np.float64(0.13791284498856973)), (183, np.float64(0.02242519672615355)), (184, np.float64(0.015988958788756898)), (185, np.float64(0.06937179022422392)), (186, np.float64(0.006128534597720168)), (187, np.float64(0.010120177887490558)), (188, np.float64(0.0037100232503419163)), (189, np.float64(0.0039927553889868485)), (190, np.float64(0.007031641900808942)), (191, np.float64(0.00370019293567615)), (192, np.float64(0.0)), (193, np.float64(0.02276430920651498)), (194, np.float64(0.0)), (195, np.float64(0.003347570641050794)), (196, np.float64(0.01829162842786606)), (197, np.float64(0.0038999509466747656)), (198, np.float64(0.08500755334258236)), (199, np.float64(0.045860251967933925)), (200, np.float64(0.01861495971262629)), (201, np.float64(0.03307556889926115)), (202, np.float64(0.003567204124571502)), (203, np.float64(0.10285056862977199)), (204, np.float64(0.003617963836115641)), (205, np.float64(0.08735030770351083)), (206, np.float64(0.007205605446564602)), (207, np.float64(0.04053034651149602)), (208, np.float64(0.0071513568744786425)), (209, np.float64(0.0035408056731915023)), (210, np.float64(0.0034070986487598955)), (211, np.float64(0.03042018825255844)), (212, np.float64(0.021274673365506844)), (213, np.float64(0.007925081249210788)), (214, np.float64(0.0)), (215, np.float64(0.007626133052577625)), (216, np.float64(0.007111317362303063)), (217, np.float64(0.003174237970923549)), (218, np.float64(0.0040260296441463166)), (219, np.float64(0.02772807152851084)), (220, np.float64(0.01618289022685514)), (221, np.float64(0.003920416340704615)), (222, np.float64(0.018109430710505497)), (223, np.float64(0.016319651462982945)), (224, np.float64(0.017075266839082632)), (225, np.float64(0.019153802159840454)), (226, np.float64(0.0)), (227, np.float64(0.0035105014227932285)), (228, np.float64(0.021105831055989604)), (229, np.float64(0.022137979599612063)), (230, np.float64(0.017935946535375117)), (231, np.float64(0.0)), (232, np.float64(0.05868681515206605)), (233, np.float64(0.01745710067394408)), (234, np.float64(0.003626356986193739)), (235, np.float64(0.0034052187766425894)), (236, np.float64(0.003464001421258356)), (237, np.float64(0.006704359583422319)), (238, np.float64(0.048908779243298874)), (239, np.float64(0.013252527480353889)), (240, np.float64(0.0070450694537850375)), (241, np.float64(0.025906309140588633)), (242, np.float64(0.06871595278403766)), (243, np.float64(0.006952814776500945)), (244, np.float64(0.0030572629362018515)), (245, np.float64(0.0060864822939419305)), (246, np.float64(0.003248060300334693)), (247, np.float64(0.0)), (248, np.float64(0.0037070102810766656)), (249, np.float64(0.03791148673891277)), (250, np.float64(0.0)), (251, np.float64(0.0)), (252, np.float64(0.0035544593453105174)), (253, np.float64(0.0030495991408836785)), (254, np.float64(0.022553527787343524)), (255, np.float64(0.0)), (256, np.float64(0.03659015692060155)), (257, np.float64(0.017692950543227448)), (258, np.float64(0.0)), (259, np.float64(0.006371162383896712)), (260, np.float64(0.02127090815806334)), (261, np.float64(0.0038150849272284345)), (262, np.float64(0.04600003159287132)), (263, np.float64(0.024154119656614948)), (264, np.float64(0.02303227613398937)), (265, np.float64(0.0)), (266, np.float64(0.017630238170717086)), (267, np.float64(0.005967477295800543)), (268, np.float64(0.0)), (269, np.float64(0.0)), (270, np.float64(0.049696900356253106)), (271, np.float64(0.02415405417676913)), (272, np.float64(0.0)), (273, np.float64(0.003323657095724196)), (274, np.float64(0.007512312758406433)), (275, np.float64(0.016698077449069513)), (276, np.float64(0.003884329728788647)), (277, np.float64(0.007099049460163558)), (278, np.float64(0.04855502153901611)), (279, np.float64(0.03878328900888583)), (280, np.float64(0.0)), (281, np.float64(0.0)), (282, np.float64(0.003078625435671924)), (283, np.float64(0.0)), (284, np.float64(0.016772031533056727)), (285, np.float64(0.00323657249982261)), (286, np.float64(0.02141676186087735)), (287, np.float64(0.0)), (288, np.float64(0.0)), (289, np.float64(0.0034705954268987906)), (290, np.float64(0.007357167921574939)), (291, np.float64(0.05639444563583418)), (292, np.float64(0.021201329017856176)), (293, np.float64(0.0)), (294, np.float64(0.003958715322781372)), (295, np.float64(0.0033107597205245943)), (296, np.float64(0.003545240213541454)), (297, np.float64(0.0037138747385355923)), (298, np.float64(0.0)), (299, np.float64(0.003609720636414675)), (300, np.float64(0.018377845105689822)), (301, np.float64(0.014875248783463984)), (302, np.float64(0.003685835812722437)), (303, np.float64(0.003585370197529727)), (304, np.float64(0.006742462746027163)), (305, np.float64(0.01756454816980315)), (306, np.float64(0.018091138729413574)), (307, np.float64(0.0995247815636352)), (308, np.float64(0.00306594168085654)), (309, np.float64(0.03844874311989308)), (310, np.float64(0.03744158306181825)), (311, np.float64(0.02225453666523241)), (312, np.float64(0.00637731718943073)), (313, np.float64(0.01814779697420968)), (314, np.float64(0.0)), (315, np.float64(0.0061593925919521805)), (316, np.float64(0.03512631965397277)), (317, np.float64(0.0)), (318, np.float64(0.08235414146761953)), (319, np.float64(0.019348661967413642)), (320, np.float64(0.0035773574530619957)), (321, np.float64(0.0)), (322, np.float64(0.022667228904981757)), (323, np.float64(0.0)), (324, np.float64(0.04684136841636652)), (325, np.float64(0.005616786762210405)), (326, np.float64(0.0)), (327, np.float64(0.0)), (328, np.float64(0.04402908611146342)), (329, np.float64(0.04512610058913785)), (330, np.float64(0.04756567328421769)), (331, np.float64(0.050860813856557094)), (332, np.float64(0.05725877820427604)), (333, np.float64(0.01260970681260415)), (334, np.float64(0.02042629362017668)), (335, np.float64(0.018083476296950285)), (336, np.float64(0.003078168662136091)), (337, np.float64(0.0024628739022520938)), (338, np.float64(0.0)), (339, np.float64(0.00761027470673898)), (340, np.float64(0.00852281648156045)), (341, np.float64(0.0036810240821978472)), (342, np.float64(0.01978344727462244)), (343, np.float64(0.0)), (344, np.float64(0.0028763458669873775)), (345, np.float64(0.033278666696628385)), (346, np.float64(0.015342150874085558)), (347, np.float64(0.008153187959594046)), (348, np.float64(0.0035631105061321314)), (349, np.float64(0.0034830601683224975)), (350, np.float64(0.011998179717480972)), (351, np.float64(0.0)), (352, np.float64(0.0034060738275583573)), (353, np.float64(0.12028281039277251)), (354, np.float64(0.0)), (355, np.float64(0.0035801873366330776)), (356, np.float64(0.08566104702396266)), (357, np.float64(0.0)), (358, np.float64(0.017336205049029288)), (359, np.float64(0.0035045915008376297)), (360, np.float64(0.02101467217624226)), (361, np.float64(0.08365844326679675)), (362, np.float64(0.01952012173090909)), (363, np.float64(0.01207185174899131)), (364, np.float64(0.0)), (365, np.float64(0.028821512294245233)), (366, np.float64(0.02109906258558847)), (367, np.float64(0.0)), (368, np.float64(0.0032226966431884363)), (369, np.float64(0.00615957422947001)), (370, np.float64(0.03222126936654823)), (371, np.float64(0.016535440183293303)), (372, np.float64(0.01924488275567216)), (373, np.float64(0.014841460999305233)), (374, np.float64(0.0031544887770502948)), (375, np.float64(0.013028212236133398)), (376, np.float64(0.01727245472598086)), (377, np.float64(0.03207064592229753)), (378, np.float64(0.0)), (379, np.float64(0.006468183295380983)), (380, np.float64(0.02744490757818419)), (381, np.float64(0.004393659897720248)), (382, np.float64(0.06325711724574395)), (383, np.float64(0.006630559203194031)), (384, np.float64(0.021056696492256832)), (385, np.float64(0.0)), (386, np.float64(0.02623084128193336)), (387, np.float64(0.0034841255495556664)), (388, np.float64(0.0)), (389, np.float64(0.014034751918910304)), (390, np.float64(0.0)), (391, np.float64(0.0)), (392, np.float64(0.0032215673877831357)), (393, np.float64(0.023687285418161848)), (394, np.float64(0.0035418270459249236)), (395, np.float64(0.0)), (396, np.float64(0.08072266406834995)), (397, np.float64(0.0)), (398, np.float64(0.0)), (399, np.float64(0.003225834470512395)), (400, np.float64(0.01924557350293575)), (401, np.float64(0.06479169165606057)), (402, np.float64(0.031858058741465835)), (403, np.float64(0.006437146482630491)), (404, np.float64(0.0)), (405, np.float64(0.0027334424875780903)), (406, np.float64(0.0)), (407, np.float64(0.0)), (408, np.float64(0.0034561056878891715)), (409, np.float64(0.0)), (410, np.float64(0.016779845875274493)), (411, np.float64(0.00547138359852577)), (412, np.float64(0.04327739631158785)), (413, np.float64(0.014980015933798222)), (414, np.float64(0.028988293310786343)), (415, np.float64(0.018752857113891738)), (416, np.float64(0.0)), (417, np.float64(0.0)), (418, np.float64(0.0)), (419, np.float64(0.019282984443669802)), (420, np.float64(0.041725644573196774)), (421, np.float64(0.07197709399163571)), (422, np.float64(0.013439610161976192)), (423, np.float64(0.0)), (424, np.float64(0.006916349962851211)), (425, np.float64(0.035125676470749906)), (426, np.float64(0.016791395252445197)), (427, np.float64(0.0)), (428, np.float64(0.003723785677861918)), (429, np.float64(0.0)), (430, np.float64(0.0)), (431, np.float64(0.0)), (432, np.float64(0.02110801211405314)), (433, np.float64(0.003820494911297346)), (434, np.float64(0.0)), (435, np.float64(0.0)), (436, np.float64(0.0771004860619253)), (437, np.float64(0.003952555086225952)), (438, np.float64(0.0)), (439, np.float64(0.0)), (440, np.float64(0.035344611522492304)), (441, np.float64(0.043881334575329806)), (442, np.float64(0.014832822783516181)), (443, np.float64(0.019654126019799587)), (444, np.float64(0.0)), (445, np.float64(0.0)), (446, np.float64(0.044951563548601164)), (447, np.float64(0.003926573322439444)), (448, np.float64(0.0)), (449, np.float64(0.01561142567070076)), (450, np.float64(0.013530855460421225)), (451, np.float64(0.03311612736320768)), (452, np.float64(0.0)), (453, np.float64(0.003629707451255762)), (454, np.float64(0.012485497627689073)), (455, np.float64(0.003403679699993311)), (456, np.float64(0.025546095055589576)), (457, np.float64(0.057135967156080124)), (458, np.float64(0.0036954741988590705)), (459, np.float64(0.032689004710280634)), (460, np.float64(0.06591581542556771)), (461, np.float64(0.019013617065113928)), (462, np.float64(0.023349489645416673)), (463, np.float64(0.0)), (464, np.float64(0.05624006918649729)), (465, np.float64(0.0)), (466, np.float64(0.02674775434643204)), (467, np.float64(0.007846059586413644)), (468, np.float64(0.0033626234379925584)), (469, np.float64(0.00661115976161278)), (470, np.float64(0.023730905309954538)), (471, np.float64(0.021518521123727142)), (472, np.float64(0.006851864392351981)), (473, np.float64(0.013626730054998069)), (474, np.float64(0.0)), (475, np.float64(0.02372876532445066)), (476, np.float64(0.017772830447812887)), (477, np.float64(0.0)), (478, np.float64(0.006846715085609557)), (479, np.float64(0.008044222526657742)), (480, np.float64(0.01795147714449042)), (481, np.float64(0.0)), (482, np.float64(0.0)), (483, np.float64(0.03856342719026379)), (484, np.float64(0.003130524632686946)), (485, np.float64(0.0032550764462319836)), (486, np.float64(0.007224233318255774)), (487, np.float64(0.020749561948132586)), (488, np.float64(0.006560857704246543)), (489, np.float64(0.0)), (490, np.float64(0.020661581423669945)), (491, np.float64(0.006400128740750646)), (492, np.float64(0.0)), (493, np.float64(0.030194116405571018)), (494, np.float64(0.0031751680626119863)), (495, np.float64(0.021224729716265447)), (496, np.float64(0.0)), (497, np.float64(0.0)), (498, np.float64(0.0034145190838310645)), (499, np.float64(0.0)), (500, np.float64(0.0032232693300692453)), (501, np.float64(0.0750080664854223)), (502, np.float64(0.010563412274066163)), (503, np.float64(0.02521006597147038)), (504, np.float64(0.02276672603133211)), (505, np.float64(0.016637365147761884)), (506, np.float64(0.0)), (507, np.float64(0.04858386265153919)), (508, np.float64(0.05178479911681242)), (509, np.float64(0.0)), (510, np.float64(0.017178869717402782)), (511, np.float64(0.12207885893729999)), (512, np.float64(0.0037306828054056934)), (513, np.float64(0.005674248493951026)), (514, np.float64(0.002692735066824886)), (515, np.float64(0.0)), (516, np.float64(0.0)), (517, np.float64(0.0)), (518, np.float64(0.008265324608026564)), (519, np.float64(0.0)), (520, np.float64(0.0)), (521, np.float64(0.0)), (522, np.float64(0.0)), (523, np.float64(0.007619368762355292)), (524, np.float64(0.0)), (525, np.float64(0.01867943868523518)), (526, np.float64(0.0)), (527, np.float64(0.0)), (528, np.float64(0.0026297641651197696)), (529, np.float64(0.003145999058023309)), (530, np.float64(0.022276153339289714)), (531, np.float64(0.006623087568632412)), (532, np.float64(0.0))]\n"
          ]
        }
      ]
    },
    {
      "cell_type": "code",
      "source": [
        "len(similarity_score)"
      ],
      "metadata": {
        "colab": {
          "base_uri": "https://localhost:8080/"
        },
        "id": "RP8cGRVqxeRd",
        "outputId": "71bc4e6b-b9c3-433f-ef08-c15f8b4e15ff"
      },
      "execution_count": null,
      "outputs": [
        {
          "output_type": "execute_result",
          "data": {
            "text/plain": [
              "533"
            ]
          },
          "metadata": {},
          "execution_count": 24
        }
      ]
    },
    {
      "cell_type": "code",
      "source": [
        "#sorting the movies based on their similarity score\n",
        "\n",
        "sorted_similar_movies = sorted(similarity_score,key = lambda x:x[1],reverse=True)\n",
        "print(sorted_similar_movies)"
      ],
      "metadata": {
        "colab": {
          "base_uri": "https://localhost:8080/"
        },
        "id": "nifdlxiExjbi",
        "outputId": "adc9600b-3dc9-4576-ee0b-60f118c17c5e"
      },
      "execution_count": null,
      "outputs": [
        {
          "output_type": "stream",
          "name": "stdout",
          "text": [
            "[(68, np.float64(1.0000000000000002)), (79, np.float64(0.361079505592804)), (31, np.float64(0.28182882485652894)), (7, np.float64(0.20123954881191936)), (16, np.float64(0.19429425979491927)), (26, np.float64(0.17400898514369095)), (85, np.float64(0.159189526715827)), (182, np.float64(0.13791284498856973)), (511, np.float64(0.12207885893729999)), (353, np.float64(0.12028281039277251)), (131, np.float64(0.11399660939205405)), (138, np.float64(0.10797835075936249)), (46, np.float64(0.10700057241116256)), (64, np.float64(0.1037512797559809)), (203, np.float64(0.10285056862977199)), (307, np.float64(0.0995247815636352)), (174, np.float64(0.09663328879617585)), (169, np.float64(0.0960861764711727)), (101, np.float64(0.09492181284636889)), (94, np.float64(0.09415118571177704)), (126, np.float64(0.09411971619219889)), (33, np.float64(0.09059045269144067)), (6, np.float64(0.0902048763513027)), (205, np.float64(0.08735030770351083)), (356, np.float64(0.08566104702396266)), (198, np.float64(0.08500755334258236)), (361, np.float64(0.08365844326679675)), (39, np.float64(0.08255746174958994)), (318, np.float64(0.08235414146761953)), (396, np.float64(0.08072266406834995)), (78, np.float64(0.07871548078919488)), (436, np.float64(0.0771004860619253)), (501, np.float64(0.0750080664854223)), (19, np.float64(0.07487405103137468)), (421, np.float64(0.07197709399163571)), (91, np.float64(0.07121374612401184)), (38, np.float64(0.07075939057604508)), (185, np.float64(0.06937179022422392)), (242, np.float64(0.06871595278403766)), (14, np.float64(0.06738298347054403)), (122, np.float64(0.0671084964015012)), (460, np.float64(0.06591581542556771)), (401, np.float64(0.06479169165606057)), (382, np.float64(0.06325711724574395)), (232, np.float64(0.05868681515206605)), (332, np.float64(0.05725877820427604)), (457, np.float64(0.057135967156080124)), (291, np.float64(0.05639444563583418)), (464, np.float64(0.05624006918649729)), (166, np.float64(0.055372140356242217)), (10, np.float64(0.05351719406517293)), (9, np.float64(0.052979958792365875)), (28, np.float64(0.052787304244008695)), (129, np.float64(0.052767093316876935)), (72, np.float64(0.052605994470767914)), (508, np.float64(0.05178479911681242)), (331, np.float64(0.050860813856557094)), (43, np.float64(0.0507301881010119)), (270, np.float64(0.049696900356253106)), (20, np.float64(0.04915422626180025)), (238, np.float64(0.048908779243298874)), (30, np.float64(0.04882336572150633)), (507, np.float64(0.04858386265153919)), (278, np.float64(0.04855502153901611)), (330, np.float64(0.04756567328421769)), (1, np.float64(0.04735711955558237)), (54, np.float64(0.047258726820905914)), (324, np.float64(0.04684136841636652)), (95, np.float64(0.046744088345323356)), (262, np.float64(0.04600003159287132)), (199, np.float64(0.045860251967933925)), (41, np.float64(0.04520410624822484)), (329, np.float64(0.04512610058913785)), (446, np.float64(0.044951563548601164)), (98, np.float64(0.04412635464057747)), (328, np.float64(0.04402908611146342)), (441, np.float64(0.043881334575329806)), (412, np.float64(0.04327739631158785)), (76, np.float64(0.042902551992838836)), (110, np.float64(0.04232789972935151)), (420, np.float64(0.041725644573196774)), (207, np.float64(0.04053034651149602)), (146, np.float64(0.04032275507488774)), (279, np.float64(0.03878328900888583)), (483, np.float64(0.03856342719026379)), (309, np.float64(0.03844874311989308)), (249, np.float64(0.03791148673891277)), (18, np.float64(0.03753430628411818)), (310, np.float64(0.03744158306181825)), (57, np.float64(0.037099125320702635)), (256, np.float64(0.03659015692060155)), (440, np.float64(0.035344611522492304)), (316, np.float64(0.03512631965397277)), (425, np.float64(0.035125676470749906)), (128, np.float64(0.03487960054737016)), (136, np.float64(0.033874220966042756)), (178, np.float64(0.033631210732315654)), (103, np.float64(0.03341369623523126)), (345, np.float64(0.033278666696628385)), (163, np.float64(0.033233551904207896)), (451, np.float64(0.03311612736320768)), (201, np.float64(0.03307556889926115)), (459, np.float64(0.032689004710280634)), (32, np.float64(0.032594722118156706)), (370, np.float64(0.03222126936654823)), (377, np.float64(0.03207064592229753)), (402, np.float64(0.031858058741465835)), (211, np.float64(0.03042018825255844)), (493, np.float64(0.030194116405571018)), (414, np.float64(0.028988293310786343)), (365, np.float64(0.028821512294245233)), (219, np.float64(0.02772807152851084)), (380, np.float64(0.02744490757818419)), (466, np.float64(0.02674775434643204)), (107, np.float64(0.026704606331299008)), (386, np.float64(0.02623084128193336)), (241, np.float64(0.025906309140588633)), (151, np.float64(0.025585311615176184)), (456, np.float64(0.025546095055589576)), (56, np.float64(0.025465823167406892)), (47, np.float64(0.025256008539942157)), (503, np.float64(0.02521006597147038)), (263, np.float64(0.024154119656614948)), (271, np.float64(0.02415405417676913)), (35, np.float64(0.023883670962777)), (470, np.float64(0.023730905309954538)), (475, np.float64(0.02372876532445066)), (393, np.float64(0.023687285418161848)), (158, np.float64(0.023671916580285106)), (111, np.float64(0.023598676894310118)), (462, np.float64(0.023349489645416673)), (83, np.float64(0.023095613150879143)), (264, np.float64(0.02303227613398937)), (127, np.float64(0.02281593359418066)), (504, np.float64(0.02276672603133211)), (193, np.float64(0.02276430920651498)), (322, np.float64(0.022667228904981757)), (102, np.float64(0.02263925452371246)), (254, np.float64(0.022553527787343524)), (90, np.float64(0.02246600407293928)), (183, np.float64(0.02242519672615355)), (530, np.float64(0.022276153339289714)), (311, np.float64(0.02225453666523241)), (229, np.float64(0.022137979599612063)), (108, np.float64(0.02180334414335032)), (36, np.float64(0.02176404581392322)), (61, np.float64(0.02174567758643953)), (471, np.float64(0.021518521123727142)), (149, np.float64(0.02147163869014341)), (286, np.float64(0.02141676186087735)), (168, np.float64(0.021391035309696577)), (0, np.float64(0.021314313094813846)), (212, np.float64(0.021274673365506844)), (260, np.float64(0.02127090815806334)), (495, np.float64(0.021224729716265447)), (292, np.float64(0.021201329017856176)), (170, np.float64(0.021149076744217798)), (432, np.float64(0.02110801211405314)), (228, np.float64(0.021105831055989604)), (366, np.float64(0.02109906258558847)), (384, np.float64(0.021056696492256832)), (70, np.float64(0.021032473846554392)), (360, np.float64(0.02101467217624226)), (150, np.float64(0.020867898389973966)), (59, np.float64(0.02085213201409554)), (81, np.float64(0.020756870810930503)), (487, np.float64(0.020749561948132586)), (172, np.float64(0.02072644754613188)), (490, np.float64(0.020661581423669945)), (96, np.float64(0.020649614405246403)), (334, np.float64(0.02042629362017668)), (27, np.float64(0.020302882137860963)), (125, np.float64(0.020281239860401937)), (123, np.float64(0.020211658240939765)), (4, np.float64(0.020208677471289176)), (52, np.float64(0.0200719013375437)), (342, np.float64(0.01978344727462244)), (443, np.float64(0.019654126019799587)), (362, np.float64(0.01952012173090909)), (165, np.float64(0.019385920577236194)), (319, np.float64(0.019348661967413642)), (419, np.float64(0.019282984443669802)), (400, np.float64(0.01924557350293575)), (372, np.float64(0.01924488275567216)), (225, np.float64(0.019153802159840454)), (461, np.float64(0.019013617065113928)), (60, np.float64(0.018973967625691417)), (415, np.float64(0.018752857113891738)), (525, np.float64(0.01867943868523518)), (82, np.float64(0.01865106520726696)), (200, np.float64(0.01861495971262629)), (74, np.float64(0.0186125359928473)), (67, np.float64(0.01852964492849046)), (97, np.float64(0.018525057111307225)), (51, np.float64(0.01843855124205711)), (300, np.float64(0.018377845105689822)), (196, np.float64(0.01829162842786606)), (313, np.float64(0.01814779697420968)), (222, np.float64(0.018109430710505497)), (306, np.float64(0.018091138729413574)), (335, np.float64(0.018083476296950285)), (87, np.float64(0.01802630738761497)), (480, np.float64(0.01795147714449042)), (230, np.float64(0.017935946535375117)), (476, np.float64(0.017772830447812887)), (257, np.float64(0.017692950543227448)), (93, np.float64(0.017687029562606198)), (266, np.float64(0.017630238170717086)), (305, np.float64(0.01756454816980315)), (233, np.float64(0.01745710067394408)), (358, np.float64(0.017336205049029288)), (376, np.float64(0.01727245472598086)), (510, np.float64(0.017178869717402782)), (224, np.float64(0.017075266839082632)), (426, np.float64(0.016791395252445197)), (410, np.float64(0.016779845875274493)), (284, np.float64(0.016772031533056727)), (275, np.float64(0.016698077449069513)), (505, np.float64(0.016637365147761884)), (371, np.float64(0.016535440183293303)), (45, np.float64(0.01651806250777737)), (223, np.float64(0.016319651462982945)), (220, np.float64(0.01618289022685514)), (184, np.float64(0.015988958788756898)), (116, np.float64(0.015891640096858554)), (449, np.float64(0.01561142567070076)), (346, np.float64(0.015342150874085558)), (413, np.float64(0.014980015933798222)), (301, np.float64(0.014875248783463984)), (373, np.float64(0.014841460999305233)), (442, np.float64(0.014832822783516181)), (389, np.float64(0.014034751918910304)), (473, np.float64(0.013626730054998069)), (450, np.float64(0.013530855460421225)), (422, np.float64(0.013439610161976192)), (239, np.float64(0.013252527480353889)), (375, np.float64(0.013028212236133398)), (333, np.float64(0.01260970681260415)), (454, np.float64(0.012485497627689073)), (363, np.float64(0.01207185174899131)), (350, np.float64(0.011998179717480972)), (53, np.float64(0.011890887243430603)), (167, np.float64(0.011086600389774345)), (164, np.float64(0.010733335619010994)), (502, np.float64(0.010563412274066163)), (187, np.float64(0.010120177887490558)), (71, np.float64(0.008998249685904097)), (340, np.float64(0.00852281648156045)), (518, np.float64(0.008265324608026564)), (347, np.float64(0.008153187959594046)), (479, np.float64(0.008044222526657742)), (213, np.float64(0.007925081249210788)), (467, np.float64(0.007846059586413644)), (48, np.float64(0.007809284976516572)), (2, np.float64(0.007791737379751846)), (12, np.float64(0.007772079021351156)), (92, np.float64(0.007699879689954692)), (215, np.float64(0.007626133052577625)), (523, np.float64(0.007619368762355292)), (339, np.float64(0.00761027470673898)), (274, np.float64(0.007512312758406433)), (157, np.float64(0.007479120724771754)), (29, np.float64(0.007470219039611309)), (62, np.float64(0.007430779322158238)), (104, np.float64(0.007360326470049537)), (290, np.float64(0.007357167921574939)), (55, np.float64(0.007343106932314352)), (5, np.float64(0.007266820654880758)), (486, np.float64(0.007224233318255774)), (206, np.float64(0.007205605446564602)), (160, np.float64(0.00715466326449549)), (208, np.float64(0.0071513568744786425)), (112, np.float64(0.007119344111876275)), (216, np.float64(0.007111317362303063)), (75, np.float64(0.007099626785521722)), (277, np.float64(0.007099049460163558)), (240, np.float64(0.0070450694537850375)), (50, np.float64(0.007041933952145097)), (190, np.float64(0.007031641900808942)), (134, np.float64(0.006993178498728377)), (243, np.float64(0.006952814776500945)), (152, np.float64(0.006952019920779067)), (17, np.float64(0.006947857587526831)), (424, np.float64(0.006916349962851211)), (121, np.float64(0.0069020173726461655)), (88, np.float64(0.006884673618348155)), (472, np.float64(0.006851864392351981)), (478, np.float64(0.006846715085609557)), (153, np.float64(0.0067853570973008)), (139, np.float64(0.0067723828743388725)), (304, np.float64(0.006742462746027163)), (237, np.float64(0.006704359583422319)), (383, np.float64(0.006630559203194031)), (531, np.float64(0.006623087568632412)), (13, np.float64(0.006615208130106753)), (469, np.float64(0.00661115976161278)), (147, np.float64(0.006580299021508785)), (488, np.float64(0.006560857704246543)), (379, np.float64(0.006468183295380983)), (403, np.float64(0.006437146482630491)), (491, np.float64(0.006400128740750646)), (312, np.float64(0.00637731718943073)), (259, np.float64(0.006371162383896712)), (21, np.float64(0.006171762010668024)), (11, np.float64(0.006171478423257472)), (369, np.float64(0.00615957422947001)), (315, np.float64(0.0061593925919521805)), (186, np.float64(0.006128534597720168)), (24, np.float64(0.006123499507384207)), (245, np.float64(0.0060864822939419305)), (69, np.float64(0.0060648046343533095)), (84, np.float64(0.0060226009712064455)), (267, np.float64(0.005967477295800543)), (513, np.float64(0.005674248493951026)), (325, np.float64(0.005616786762210405)), (411, np.float64(0.00547138359852577)), (381, np.float64(0.004393659897720248)), (162, np.float64(0.004242018205166325)), (58, np.float64(0.004223118271083261)), (80, np.float64(0.004068932030774303)), (218, np.float64(0.0040260296441463166)), (3, np.float64(0.003997677353250027)), (189, np.float64(0.0039927553889868485)), (294, np.float64(0.003958715322781372)), (437, np.float64(0.003952555086225952)), (8, np.float64(0.003951034059364093)), (142, np.float64(0.003935125444921109)), (447, np.float64(0.003926573322439444)), (221, np.float64(0.003920416340704615)), (197, np.float64(0.0038999509466747656)), (276, np.float64(0.003884329728788647)), (113, np.float64(0.003862785064080753)), (181, np.float64(0.003847711651995154)), (179, np.float64(0.0038403359213818023)), (37, np.float64(0.0038281062844983615)), (433, np.float64(0.003820494911297346)), (40, np.float64(0.003815182337973563)), (261, np.float64(0.0038150849272284345)), (143, np.float64(0.003807265951181945)), (180, np.float64(0.003780569924819143)), (119, np.float64(0.0037605397512789763)), (44, np.float64(0.0037525907211068054)), (512, np.float64(0.0037306828054056934)), (428, np.float64(0.003723785677861918)), (297, np.float64(0.0037138747385355923)), (188, np.float64(0.0037100232503419163)), (248, np.float64(0.0037070102810766656)), (106, np.float64(0.003702732973712522)), (191, np.float64(0.00370019293567615)), (458, np.float64(0.0036954741988590705)), (302, np.float64(0.003685835812722437)), (341, np.float64(0.0036810240821978472)), (453, np.float64(0.003629707451255762)), (234, np.float64(0.003626356986193739)), (204, np.float64(0.003617963836115641)), (299, np.float64(0.003609720636414675)), (132, np.float64(0.00360065872056133)), (15, np.float64(0.003597767265717092)), (303, np.float64(0.003585370197529727)), (355, np.float64(0.0035801873366330776)), (320, np.float64(0.0035773574530619957)), (202, np.float64(0.003567204124571502)), (348, np.float64(0.0035631105061321314)), (252, np.float64(0.0035544593453105174)), (65, np.float64(0.0035528133677492604)), (296, np.float64(0.003545240213541454)), (394, np.float64(0.0035418270459249236)), (209, np.float64(0.0035408056731915023)), (63, np.float64(0.0035157406686772926)), (144, np.float64(0.0035120616571840675)), (227, np.float64(0.0035105014227932285)), (66, np.float64(0.003506505998996983)), (359, np.float64(0.0035045915008376297)), (387, np.float64(0.0034841255495556664)), (349, np.float64(0.0034830601683224975)), (141, np.float64(0.0034723987199117064)), (289, np.float64(0.0034705954268987906)), (22, np.float64(0.003467772548188023)), (236, np.float64(0.003464001421258356)), (140, np.float64(0.0034618457674803274)), (408, np.float64(0.0034561056878891715)), (175, np.float64(0.0034387440656504817)), (148, np.float64(0.0034288800810209083)), (498, np.float64(0.0034145190838310645)), (210, np.float64(0.0034070986487598955)), (352, np.float64(0.0034060738275583573)), (235, np.float64(0.0034052187766425894)), (455, np.float64(0.003403679699993311)), (171, np.float64(0.0034006557472528063)), (124, np.float64(0.003385208799079872)), (114, np.float64(0.0033656875510920813)), (468, np.float64(0.0033626234379925584)), (99, np.float64(0.0033608349266467216)), (117, np.float64(0.00335920991043498)), (195, np.float64(0.003347570641050794)), (273, np.float64(0.003323657095724196)), (295, np.float64(0.0033107597205245943)), (130, np.float64(0.003299789683010583)), (115, np.float64(0.0032628537921054776)), (485, np.float64(0.0032550764462319836)), (246, np.float64(0.003248060300334693)), (285, np.float64(0.00323657249982261)), (23, np.float64(0.00322806828276093)), (399, np.float64(0.003225834470512395)), (159, np.float64(0.0032257550768463143)), (500, np.float64(0.0032232693300692453)), (368, np.float64(0.0032226966431884363)), (392, np.float64(0.0032215673877831357)), (176, np.float64(0.00320243415875422)), (494, np.float64(0.0031751680626119863)), (217, np.float64(0.003174237970923549)), (374, np.float64(0.0031544887770502948)), (529, np.float64(0.003145999058023309)), (86, np.float64(0.003143850238889377)), (484, np.float64(0.003130524632686946)), (89, np.float64(0.003097968830361498)), (282, np.float64(0.003078625435671924)), (336, np.float64(0.003078168662136091)), (308, np.float64(0.00306594168085654)), (244, np.float64(0.0030572629362018515)), (253, np.float64(0.0030495991408836785)), (145, np.float64(0.0028837780844887867)), (344, np.float64(0.0028763458669873775)), (156, np.float64(0.0028118387453057616)), (109, np.float64(0.0027670683577046716)), (405, np.float64(0.0027334424875780903)), (514, np.float64(0.002692735066824886)), (528, np.float64(0.0026297641651197696)), (337, np.float64(0.0024628739022520938)), (25, np.float64(0.0)), (34, np.float64(0.0)), (42, np.float64(0.0)), (49, np.float64(0.0)), (73, np.float64(0.0)), (77, np.float64(0.0)), (100, np.float64(0.0)), (105, np.float64(0.0)), (118, np.float64(0.0)), (120, np.float64(0.0)), (133, np.float64(0.0)), (135, np.float64(0.0)), (137, np.float64(0.0)), (154, np.float64(0.0)), (155, np.float64(0.0)), (161, np.float64(0.0)), (173, np.float64(0.0)), (177, np.float64(0.0)), (192, np.float64(0.0)), (194, np.float64(0.0)), (214, np.float64(0.0)), (226, np.float64(0.0)), (231, np.float64(0.0)), (247, np.float64(0.0)), (250, np.float64(0.0)), (251, np.float64(0.0)), (255, np.float64(0.0)), (258, np.float64(0.0)), (265, np.float64(0.0)), (268, np.float64(0.0)), (269, np.float64(0.0)), (272, np.float64(0.0)), (280, np.float64(0.0)), (281, np.float64(0.0)), (283, np.float64(0.0)), (287, np.float64(0.0)), (288, np.float64(0.0)), (293, np.float64(0.0)), (298, np.float64(0.0)), (314, np.float64(0.0)), (317, np.float64(0.0)), (321, np.float64(0.0)), (323, np.float64(0.0)), (326, np.float64(0.0)), (327, np.float64(0.0)), (338, np.float64(0.0)), (343, np.float64(0.0)), (351, np.float64(0.0)), (354, np.float64(0.0)), (357, np.float64(0.0)), (364, np.float64(0.0)), (367, np.float64(0.0)), (378, np.float64(0.0)), (385, np.float64(0.0)), (388, np.float64(0.0)), (390, np.float64(0.0)), (391, np.float64(0.0)), (395, np.float64(0.0)), (397, np.float64(0.0)), (398, np.float64(0.0)), (404, np.float64(0.0)), (406, np.float64(0.0)), (407, np.float64(0.0)), (409, np.float64(0.0)), (416, np.float64(0.0)), (417, np.float64(0.0)), (418, np.float64(0.0)), (423, np.float64(0.0)), (427, np.float64(0.0)), (429, np.float64(0.0)), (430, np.float64(0.0)), (431, np.float64(0.0)), (434, np.float64(0.0)), (435, np.float64(0.0)), (438, np.float64(0.0)), (439, np.float64(0.0)), (444, np.float64(0.0)), (445, np.float64(0.0)), (448, np.float64(0.0)), (452, np.float64(0.0)), (463, np.float64(0.0)), (465, np.float64(0.0)), (474, np.float64(0.0)), (477, np.float64(0.0)), (481, np.float64(0.0)), (482, np.float64(0.0)), (489, np.float64(0.0)), (492, np.float64(0.0)), (496, np.float64(0.0)), (497, np.float64(0.0)), (499, np.float64(0.0)), (506, np.float64(0.0)), (509, np.float64(0.0)), (515, np.float64(0.0)), (516, np.float64(0.0)), (517, np.float64(0.0)), (519, np.float64(0.0)), (520, np.float64(0.0)), (521, np.float64(0.0)), (522, np.float64(0.0)), (524, np.float64(0.0)), (526, np.float64(0.0)), (527, np.float64(0.0)), (532, np.float64(0.0))]\n"
          ]
        }
      ]
    },
    {
      "cell_type": "code",
      "source": [
        "#print the name of similar movies based on the index\n",
        "\n",
        "print('Movies suggested for you:\\n')\n",
        "\n",
        "i = 1\n",
        "\n",
        "for movie in sorted_similar_movies:\n",
        "  index = movie[0]\n",
        "  title_from_index = movies_data[movies_data.index==index]['title'].values[0]\n",
        "  if(i<30):\n",
        "    print(i,'.',title_from_index)\n",
        "    i+=1"
      ],
      "metadata": {
        "colab": {
          "base_uri": "https://localhost:8080/"
        },
        "id": "DQ92M6p9ydzD",
        "outputId": "479d4094-2acb-4f23-d601-4e6a545a296d"
      },
      "execution_count": null,
      "outputs": [
        {
          "output_type": "stream",
          "name": "stdout",
          "text": [
            "Movies suggested for you:\n",
            "\n",
            "1 . Iron Man\n",
            "2 . Iron Man 2\n",
            "3 . Iron Man 3\n",
            "4 . Avengers: Age of Ultron\n",
            "5 . The Avengers\n",
            "6 . Captain America: Civil War\n",
            "7 . Captain America: The Winter Soldier\n",
            "8 . Ant-Man\n",
            "9 . X-Men\n",
            "10 . Tropic Thunder\n",
            "11 . G-Force\n",
            "12 . The Last Airbender\n",
            "13 . X-Men: Days of Future Past\n",
            "14 . X-Men: Apocalypse\n",
            "15 . X2\n",
            "16 . The Expendables 3\n",
            "17 . The Incredible Hulk\n",
            "18 . Captain America: The First Avenger\n",
            "19 . X-Men: First Class\n",
            "20 . Guardians of the Galaxy\n",
            "21 . Thor: The Dark World\n",
            "22 . X-Men: The Last Stand\n",
            "23 . Tangled\n",
            "24 . Sherlock Holmes: A Game of Shadows\n",
            "25 . Sherlock Holmes\n",
            "26 . R.I.P.D.\n",
            "27 . You Don't Mess with the Zohan\n",
            "28 . TRON: Legacy\n",
            "29 . Surf's Up\n"
          ]
        }
      ]
    },
    {
      "cell_type": "markdown",
      "source": [
        "Movie Recommendation system\n"
      ],
      "metadata": {
        "id": "j12Q_Nvb1K6c"
      }
    },
    {
      "cell_type": "code",
      "source": [
        "movie_name = input('Enter your favourite movie name:')\n",
        "\n",
        "list_of_all_titles = movies_data['title'].tolist()\n",
        "\n",
        "find_close_match = difflib.get_close_matches(movie_name,list_of_all_titles)\n",
        "\n",
        "close_match = find_close_match[0]\n",
        "\n",
        "index_of_the_movie = movies_data[movies_data.title == close_match]['index'].values[0]\n",
        "\n",
        "similarity_score = list(enumerate(similarity[index_of_the_movie]))\n",
        "\n",
        "sorted_similar_movies = sorted(similarity_score,key = lambda x:x[1],reverse=True)\n",
        "\n",
        "print('Movies suggested for you:\\n')\n",
        "\n",
        "i = 1\n",
        "\n",
        "for movie in sorted_similar_movies:\n",
        "  index = movie[0]\n",
        "  title_from_index = movies_data[movies_data.index==index]['title'].values[0]\n",
        "  if(i<30):\n",
        "    print(i,'.',title_from_index)\n",
        "    i+=1\n",
        "\n",
        "\n"
      ],
      "metadata": {
        "colab": {
          "base_uri": "https://localhost:8080/"
        },
        "id": "16JO1OBP1IGw",
        "outputId": "d8657b34-49dc-4f24-f2f1-a653610d2dc0"
      },
      "execution_count": null,
      "outputs": [
        {
          "output_type": "stream",
          "name": "stdout",
          "text": [
            "Enter your favourite movie name:avenger\n",
            "Movies suggested for you:\n",
            "\n",
            "1 . The Avengers\n",
            "2 . Avengers: Age of Ultron\n",
            "3 . Captain America: The Winter Soldier\n",
            "4 . Captain America: Civil War\n",
            "5 . Iron Man 2\n",
            "6 . Thor: The Dark World\n",
            "7 . X-Men\n",
            "8 . The Incredible Hulk\n",
            "9 . Thor\n",
            "10 . Captain America: The First Avenger\n",
            "11 . Ant-Man\n",
            "12 . X-Men: Apocalypse\n",
            "13 . X-Men: The Last Stand\n",
            "14 . X2\n",
            "15 . Iron Man\n",
            "16 . X-Men: Days of Future Past\n",
            "17 . Iron Man 3\n",
            "18 . The Amazing Spider-Man 2\n",
            "19 . Man of Steel\n",
            "20 . Zodiac\n",
            "21 . Batman v Superman: Dawn of Justice\n",
            "22 . Teenage Mutant Ninja Turtles: Out of the Shadows\n",
            "23 . X-Men: First Class\n",
            "24 . The Jungle Book\n",
            "25 . Guardians of the Galaxy\n",
            "26 . Sherlock Holmes\n",
            "27 . The Island\n",
            "28 . Watchmen\n",
            "29 . Fantastic Four\n"
          ]
        }
      ]
    },
    {
      "cell_type": "code",
      "metadata": {
        "id": "8398a739",
        "outputId": "91953ee6-03ad-4410-fbcb-0562b192da6c",
        "colab": {
          "base_uri": "https://localhost:8080/",
          "height": 356
        }
      },
      "source": [
        "# Re-loading the data and performing necessary preprocessing steps\n",
        "import numpy as np\n",
        "import pandas as pd\n",
        "import difflib\n",
        "from sklearn.feature_extraction.text import TfidfVectorizer\n",
        "from sklearn.metrics.pairwise import cosine_similarity\n",
        "\n",
        "#loading the data from the csv file to pandas dataframe\n",
        "movies_data = pd.read_csv('/content/movies.csv')\n",
        "\n",
        "#selecting the relevant features for recommendation\n",
        "selected_features = ['genres','keywords','tagline','cast','director']\n",
        "\n",
        "#replacing the missing values with null values\n",
        "for feature in selected_features:\n",
        "  movies_data[feature] = movies_data[feature].fillna('')\n",
        "\n",
        "#combining all the 5 selected features\n",
        "combined_features = movies_data['genres']+' '+movies_data['keywords']+' '+movies_data['tagline']+' '+movies_data['cast']+' '+movies_data['director']\n",
        "\n",
        "#converting the text data to feature vector\n",
        "vectorizer = TfidfVectorizer()\n",
        "feature_vectors = vectorizer.fit_transform(combined_features)\n",
        "\n",
        "#getting the similarity scores using cosine similarity\n",
        "similarity = cosine_similarity(feature_vectors)\n",
        "\n",
        "#creating a list with all the movie names given in the dataset\n",
        "list_of_all_titles = movies_data['title'].tolist()\n",
        "\n",
        "# Recommendation logic\n",
        "movie_name = input('Enter your favourite movie name:')\n",
        "\n",
        "find_close_match = difflib.get_close_matches(movie_name,list_of_all_titles)\n",
        "\n",
        "if find_close_match: # Check if a close match was found\n",
        "  close_match = find_close_match[0]\n",
        "\n",
        "  index_of_the_movie = movies_data[movies_data.title == close_match]['index'].values[0]\n",
        "\n",
        "  similarity_score = list(enumerate(similarity[index_of_the_movie]))\n",
        "\n",
        "  sorted_similar_movies = sorted(similarity_score,key = lambda x:x[1],reverse=True)\n",
        "\n",
        "  print('Movies suggested for you:\\n')\n",
        "\n",
        "  i = 1\n",
        "\n",
        "  for movie in sorted_similar_movies:\n",
        "    index = movie[0]\n",
        "    title_from_index = movies_data[movies_data.index==index]['title'].values[0]\n",
        "    if(i<30):\n",
        "      print(i,'.',title_from_index)\n",
        "      i+=1\n",
        "else:\n",
        "  print(\"Sorry, no close match found for the movie you entered.\")"
      ],
      "execution_count": null,
      "outputs": [
        {
          "output_type": "error",
          "ename": "FileNotFoundError",
          "evalue": "[Errno 2] No such file or directory: '/content/movies.csv'",
          "traceback": [
            "\u001b[0;31m---------------------------------------------------------------------------\u001b[0m",
            "\u001b[0;31mFileNotFoundError\u001b[0m                         Traceback (most recent call last)",
            "\u001b[0;32m/tmp/ipython-input-3136041615.py\u001b[0m in \u001b[0;36m<cell line: 0>\u001b[0;34m()\u001b[0m\n\u001b[1;32m      7\u001b[0m \u001b[0;34m\u001b[0m\u001b[0m\n\u001b[1;32m      8\u001b[0m \u001b[0;31m#loading the data from the csv file to pandas dataframe\u001b[0m\u001b[0;34m\u001b[0m\u001b[0;34m\u001b[0m\u001b[0m\n\u001b[0;32m----> 9\u001b[0;31m \u001b[0mmovies_data\u001b[0m \u001b[0;34m=\u001b[0m \u001b[0mpd\u001b[0m\u001b[0;34m.\u001b[0m\u001b[0mread_csv\u001b[0m\u001b[0;34m(\u001b[0m\u001b[0;34m'/content/movies.csv'\u001b[0m\u001b[0;34m)\u001b[0m\u001b[0;34m\u001b[0m\u001b[0;34m\u001b[0m\u001b[0m\n\u001b[0m\u001b[1;32m     10\u001b[0m \u001b[0;34m\u001b[0m\u001b[0m\n\u001b[1;32m     11\u001b[0m \u001b[0;31m#selecting the relevant features for recommendation\u001b[0m\u001b[0;34m\u001b[0m\u001b[0;34m\u001b[0m\u001b[0m\n",
            "\u001b[0;32m/usr/local/lib/python3.12/dist-packages/pandas/io/parsers/readers.py\u001b[0m in \u001b[0;36mread_csv\u001b[0;34m(filepath_or_buffer, sep, delimiter, header, names, index_col, usecols, dtype, engine, converters, true_values, false_values, skipinitialspace, skiprows, skipfooter, nrows, na_values, keep_default_na, na_filter, verbose, skip_blank_lines, parse_dates, infer_datetime_format, keep_date_col, date_parser, date_format, dayfirst, cache_dates, iterator, chunksize, compression, thousands, decimal, lineterminator, quotechar, quoting, doublequote, escapechar, comment, encoding, encoding_errors, dialect, on_bad_lines, delim_whitespace, low_memory, memory_map, float_precision, storage_options, dtype_backend)\u001b[0m\n\u001b[1;32m   1024\u001b[0m     \u001b[0mkwds\u001b[0m\u001b[0;34m.\u001b[0m\u001b[0mupdate\u001b[0m\u001b[0;34m(\u001b[0m\u001b[0mkwds_defaults\u001b[0m\u001b[0;34m)\u001b[0m\u001b[0;34m\u001b[0m\u001b[0;34m\u001b[0m\u001b[0m\n\u001b[1;32m   1025\u001b[0m \u001b[0;34m\u001b[0m\u001b[0m\n\u001b[0;32m-> 1026\u001b[0;31m     \u001b[0;32mreturn\u001b[0m \u001b[0m_read\u001b[0m\u001b[0;34m(\u001b[0m\u001b[0mfilepath_or_buffer\u001b[0m\u001b[0;34m,\u001b[0m \u001b[0mkwds\u001b[0m\u001b[0;34m)\u001b[0m\u001b[0;34m\u001b[0m\u001b[0;34m\u001b[0m\u001b[0m\n\u001b[0m\u001b[1;32m   1027\u001b[0m \u001b[0;34m\u001b[0m\u001b[0m\n\u001b[1;32m   1028\u001b[0m \u001b[0;34m\u001b[0m\u001b[0m\n",
            "\u001b[0;32m/usr/local/lib/python3.12/dist-packages/pandas/io/parsers/readers.py\u001b[0m in \u001b[0;36m_read\u001b[0;34m(filepath_or_buffer, kwds)\u001b[0m\n\u001b[1;32m    618\u001b[0m \u001b[0;34m\u001b[0m\u001b[0m\n\u001b[1;32m    619\u001b[0m     \u001b[0;31m# Create the parser.\u001b[0m\u001b[0;34m\u001b[0m\u001b[0;34m\u001b[0m\u001b[0m\n\u001b[0;32m--> 620\u001b[0;31m     \u001b[0mparser\u001b[0m \u001b[0;34m=\u001b[0m \u001b[0mTextFileReader\u001b[0m\u001b[0;34m(\u001b[0m\u001b[0mfilepath_or_buffer\u001b[0m\u001b[0;34m,\u001b[0m \u001b[0;34m**\u001b[0m\u001b[0mkwds\u001b[0m\u001b[0;34m)\u001b[0m\u001b[0;34m\u001b[0m\u001b[0;34m\u001b[0m\u001b[0m\n\u001b[0m\u001b[1;32m    621\u001b[0m \u001b[0;34m\u001b[0m\u001b[0m\n\u001b[1;32m    622\u001b[0m     \u001b[0;32mif\u001b[0m \u001b[0mchunksize\u001b[0m \u001b[0;32mor\u001b[0m \u001b[0miterator\u001b[0m\u001b[0;34m:\u001b[0m\u001b[0;34m\u001b[0m\u001b[0;34m\u001b[0m\u001b[0m\n",
            "\u001b[0;32m/usr/local/lib/python3.12/dist-packages/pandas/io/parsers/readers.py\u001b[0m in \u001b[0;36m__init__\u001b[0;34m(self, f, engine, **kwds)\u001b[0m\n\u001b[1;32m   1618\u001b[0m \u001b[0;34m\u001b[0m\u001b[0m\n\u001b[1;32m   1619\u001b[0m         \u001b[0mself\u001b[0m\u001b[0;34m.\u001b[0m\u001b[0mhandles\u001b[0m\u001b[0;34m:\u001b[0m \u001b[0mIOHandles\u001b[0m \u001b[0;34m|\u001b[0m \u001b[0;32mNone\u001b[0m \u001b[0;34m=\u001b[0m \u001b[0;32mNone\u001b[0m\u001b[0;34m\u001b[0m\u001b[0;34m\u001b[0m\u001b[0m\n\u001b[0;32m-> 1620\u001b[0;31m         \u001b[0mself\u001b[0m\u001b[0;34m.\u001b[0m\u001b[0m_engine\u001b[0m \u001b[0;34m=\u001b[0m \u001b[0mself\u001b[0m\u001b[0;34m.\u001b[0m\u001b[0m_make_engine\u001b[0m\u001b[0;34m(\u001b[0m\u001b[0mf\u001b[0m\u001b[0;34m,\u001b[0m \u001b[0mself\u001b[0m\u001b[0;34m.\u001b[0m\u001b[0mengine\u001b[0m\u001b[0;34m)\u001b[0m\u001b[0;34m\u001b[0m\u001b[0;34m\u001b[0m\u001b[0m\n\u001b[0m\u001b[1;32m   1621\u001b[0m \u001b[0;34m\u001b[0m\u001b[0m\n\u001b[1;32m   1622\u001b[0m     \u001b[0;32mdef\u001b[0m \u001b[0mclose\u001b[0m\u001b[0;34m(\u001b[0m\u001b[0mself\u001b[0m\u001b[0;34m)\u001b[0m \u001b[0;34m->\u001b[0m \u001b[0;32mNone\u001b[0m\u001b[0;34m:\u001b[0m\u001b[0;34m\u001b[0m\u001b[0;34m\u001b[0m\u001b[0m\n",
            "\u001b[0;32m/usr/local/lib/python3.12/dist-packages/pandas/io/parsers/readers.py\u001b[0m in \u001b[0;36m_make_engine\u001b[0;34m(self, f, engine)\u001b[0m\n\u001b[1;32m   1878\u001b[0m                 \u001b[0;32mif\u001b[0m \u001b[0;34m\"b\"\u001b[0m \u001b[0;32mnot\u001b[0m \u001b[0;32min\u001b[0m \u001b[0mmode\u001b[0m\u001b[0;34m:\u001b[0m\u001b[0;34m\u001b[0m\u001b[0;34m\u001b[0m\u001b[0m\n\u001b[1;32m   1879\u001b[0m                     \u001b[0mmode\u001b[0m \u001b[0;34m+=\u001b[0m \u001b[0;34m\"b\"\u001b[0m\u001b[0;34m\u001b[0m\u001b[0;34m\u001b[0m\u001b[0m\n\u001b[0;32m-> 1880\u001b[0;31m             self.handles = get_handle(\n\u001b[0m\u001b[1;32m   1881\u001b[0m                 \u001b[0mf\u001b[0m\u001b[0;34m,\u001b[0m\u001b[0;34m\u001b[0m\u001b[0;34m\u001b[0m\u001b[0m\n\u001b[1;32m   1882\u001b[0m                 \u001b[0mmode\u001b[0m\u001b[0;34m,\u001b[0m\u001b[0;34m\u001b[0m\u001b[0;34m\u001b[0m\u001b[0m\n",
            "\u001b[0;32m/usr/local/lib/python3.12/dist-packages/pandas/io/common.py\u001b[0m in \u001b[0;36mget_handle\u001b[0;34m(path_or_buf, mode, encoding, compression, memory_map, is_text, errors, storage_options)\u001b[0m\n\u001b[1;32m    871\u001b[0m         \u001b[0;32mif\u001b[0m \u001b[0mioargs\u001b[0m\u001b[0;34m.\u001b[0m\u001b[0mencoding\u001b[0m \u001b[0;32mand\u001b[0m \u001b[0;34m\"b\"\u001b[0m \u001b[0;32mnot\u001b[0m \u001b[0;32min\u001b[0m \u001b[0mioargs\u001b[0m\u001b[0;34m.\u001b[0m\u001b[0mmode\u001b[0m\u001b[0;34m:\u001b[0m\u001b[0;34m\u001b[0m\u001b[0;34m\u001b[0m\u001b[0m\n\u001b[1;32m    872\u001b[0m             \u001b[0;31m# Encoding\u001b[0m\u001b[0;34m\u001b[0m\u001b[0;34m\u001b[0m\u001b[0m\n\u001b[0;32m--> 873\u001b[0;31m             handle = open(\n\u001b[0m\u001b[1;32m    874\u001b[0m                 \u001b[0mhandle\u001b[0m\u001b[0;34m,\u001b[0m\u001b[0;34m\u001b[0m\u001b[0;34m\u001b[0m\u001b[0m\n\u001b[1;32m    875\u001b[0m                 \u001b[0mioargs\u001b[0m\u001b[0;34m.\u001b[0m\u001b[0mmode\u001b[0m\u001b[0;34m,\u001b[0m\u001b[0;34m\u001b[0m\u001b[0;34m\u001b[0m\u001b[0m\n",
            "\u001b[0;31mFileNotFoundError\u001b[0m: [Errno 2] No such file or directory: '/content/movies.csv'"
          ]
        }
      ]
    }
  ]
}